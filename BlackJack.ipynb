{
 "cells": [
  {
   "cell_type": "code",
   "execution_count": 2,
   "id": "292a6358-c4ef-47ec-8185-687ad6595470",
   "metadata": {},
   "outputs": [],
   "source": [
    "import gymnasium as gym"
   ]
  },
  {
   "cell_type": "code",
   "execution_count": 10,
   "id": "3128699f-c4f5-4ac1-9183-e598bd612203",
   "metadata": {},
   "outputs": [],
   "source": [
    "env = gym.make('Blackjack-v1', natural=False, sab=False)#añadir render_mode=\"human\" para q pete\n",
    "\n",
    "#Métodos:\n",
    "#reset(self) : Reinicia el estado del entorno, a su estado inicial, devolviendo una observación de dicho estado.\n",
    "#step(self, action) : \"Avanza\" un timestep. Devuelve: observation, reward, done, info.\n",
    "#render(self) : Muestra en pantalla el entorno.\n",
    "#close(self) : Finaliza con la instancia del agente.\n",
    "#seed(self) : Establece la semilla aleatoria del generador de números aleatorios del presente entorno.\n",
    "\n",
    "#Atributos:\n",
    "#action_space : El objeto de tipo Space correspondiente al espacio de acciones válidas.\n",
    "#observation_space : El objeto de tipo Space correspondiente a todos los rangos posibles de observaciones.\n",
    "#reward_range : Tupla que contiene los valores mínimo y máximo de recompensa posible.\n"
   ]
  },
  {
   "cell_type": "code",
   "execution_count": 4,
   "id": "6c7433d3-93ac-4619-94d4-5c18da7229aa",
   "metadata": {},
   "outputs": [
    {
     "name": "stdout",
     "output_type": "stream",
     "text": [
      "Tamaño de espacio de estados Tuple(Discrete(32), Discrete(11), Discrete(2))\n",
      "Estado aleatorio (10, 0, 0)\n",
      "Hay 704  estados posibles.\n",
      "Acciones posibles 2\n",
      "Acción aleatoria 1\n",
      "Hay 2  acciones posibles.\n"
     ]
    }
   ],
   "source": [
    "print(\"Tamaño de espacio de estados\", env.observation_space)\n",
    "print(\"Estado aleatorio\", env.observation_space.sample())\n",
    "size_estados = env.observation_space[0].n * env.observation_space[1].n * env.observation_space[2].n\n",
    "print(\"Hay\", size_estados, \" estados posibles.\")\n",
    "print(\"Acciones posibles\", env.action_space.n)\n",
    "print(\"Acción aleatoria\", env.action_space.sample())\n",
    "size_acciones = env.action_space.n\n",
    "print(\"Hay\", size_acciones, \" acciones posibles.\")"
   ]
  },
  {
   "cell_type": "code",
   "execution_count": 9,
   "id": "c365d7a4-3d80-430a-8e42-0e3ad71589cf",
   "metadata": {},
   "outputs": [
    {
     "name": "stdout",
     "output_type": "stream",
     "text": [
      "Estado inicial: ((16, 2, 0), {})\n",
      "Nuevo estado: (22, 2, 0)\n",
      "Recompensa: -1.0\n",
      "Terminado: True\n",
      "Info: False\n"
     ]
    }
   ],
   "source": [
    "# Reseteamos el entorno y obtenemos el estado inicial\n",
    "estado = env.reset()\n",
    "\n",
    "# Imprime el estado inicial\n",
    "print(\"Estado inicial:\", estado)\n",
    "\n",
    "# Simulamos una acción para ver cómo se actualiza el estado\n",
    "accion = 1  # Por ejemplo, podemos elegir 'hit'\n",
    "nuevo_estado, recompensa, hecho, info, a = env.step(accion)\n",
    "\n",
    "print(\"Nuevo estado:\", nuevo_estado)\n",
    "print(\"Recompensa:\", recompensa)\n",
    "print(\"Terminado:\", hecho)\n",
    "print(\"Info:\", info)"
   ]
  },
  {
   "cell_type": "code",
   "execution_count": null,
   "id": "d0ac04de-5c8a-4066-bf04-53d9289f0533",
   "metadata": {},
   "outputs": [],
   "source": []
  }
 ],
 "metadata": {
  "kernelspec": {
   "display_name": "Python 3 (ipykernel)",
   "language": "python",
   "name": "python3"
  },
  "language_info": {
   "codemirror_mode": {
    "name": "ipython",
    "version": 3
   },
   "file_extension": ".py",
   "mimetype": "text/x-python",
   "name": "python",
   "nbconvert_exporter": "python",
   "pygments_lexer": "ipython3",
   "version": "3.10.11"
  }
 },
 "nbformat": 4,
 "nbformat_minor": 5
}
