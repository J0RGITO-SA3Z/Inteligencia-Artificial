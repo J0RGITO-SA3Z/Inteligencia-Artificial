{
 "cells": [
  {
   "cell_type": "code",
   "execution_count": 1,
   "metadata": {},
   "outputs": [],
   "source": [
    "from search import *\n",
    "import random"
   ]
  },
  {
   "cell_type": "code",
   "execution_count": 2,
   "metadata": {},
   "outputs": [],
   "source": [
    "class Movix(Problem):\n",
    "\n",
    "    tablero = {}\n",
    "    posiciones = []\n",
    "    N = 0\n",
    "\n",
    "    def __init__(self, initial, goal=None, tabla={}, N = 0, posiciones = []):\n",
    "        super().__init__(initial, goal)\n",
    "        self.tablero = tabla\n",
    "        self.N = N\n",
    "        self.posiciones = posiciones\n",
    "\n",
    "    def actions(self, state):\n",
    "        movimientos = []\n",
    "        cadena = \"Mover {} situada en {} a la posicion {}\"\n",
    "        for ficha, posiciones in dict(state).items():\n",
    "            match ficha:\n",
    "                case 'V':\n",
    "                    for pos in posiciones:\n",
    "                        y = pos[1]\n",
    "                        i = 1\n",
    "                        posAux = (pos[0], pos[1] - i)\n",
    "                        while i < y + 1 and self.esMovimientoValido(ficha, posAux):\n",
    "                            movimientos.append(cadena.format(ficha, str(pos), str(posAux)))\n",
    "                            i += 1\n",
    "                            posAux = (pos[0], pos[1] - i)\n",
    "                        \n",
    "                        i = 1\n",
    "                        posAux = (pos[0], pos[1] + i)\n",
    "                        while i < self.N - y and self.esMovimientoValido(ficha, posAux):\n",
    "                            movimientos.append(cadena.format(ficha, str(pos), str(posAux)))\n",
    "                            i += 1\n",
    "                            posAux = (pos[0], pos[1] + i)\n",
    "\n",
    "                case 'H':\n",
    "                    for pos in posiciones:\n",
    "                        x = pos[0]\n",
    "                        i = 1\n",
    "                        posAux = (pos[0] - i, pos[1])\n",
    "                        while i < x + 1 and self.esMovimientoValido(ficha, posAux):\n",
    "                            movimientos.append(cadena.format(ficha, str(pos), str(posAux)))\n",
    "                            i += 1\n",
    "                            posAux = (pos[0] - i, pos[1])\n",
    "                        \n",
    "                        i = 1\n",
    "                        posAux = (pos[0] + i, pos[1])\n",
    "                        while i < self.N - x and self.esMovimientoValido(ficha, posAux):\n",
    "                            movimientos.append(cadena.format(ficha, str(pos), str(posAux)))\n",
    "                            i += 1\n",
    "                            posAux = (pos[0] + i, pos[1])\n",
    "\n",
    "                case 'L':\n",
    "                    for pos in posiciones:\n",
    "                        for i in range(pos[0] - 1, pos[0] + 2):\n",
    "                            for j in range(pos[1] - 1, pos[1] + 2):\n",
    "                                posAux = (i, j)\n",
    "                                if(self.esMovimientoValido(ficha, posAux) and posAux != pos):\n",
    "                                    movimientos.append(cadena.format(ficha, str(pos), str(posAux)))\n",
    "\n",
    "                case 'S':\n",
    "                    for pos in posiciones:\n",
    "                        for i in range(-1, 2, 2):\n",
    "                            x = pos[0] + i\n",
    "                            posAux = (x, pos[1])\n",
    "                            if(self.esMovimientoValido(ficha, posAux)):\n",
    "                                posAux = (x + i, pos[1])\n",
    "                                if(self.esPosicionValida(posAux)):\n",
    "                                    movimientos.append(cadena.format(ficha, str(pos), str(posAux)))\n",
    "                        \n",
    "                        for i in range(-1, 2, 2):\n",
    "                            y = pos[1] + i\n",
    "                            posAux = (pos[0], y)\n",
    "                            if(self.esMovimientoValido(ficha, posAux)):\n",
    "                                posAux = (pos[0], y + i)\n",
    "                                if(self.esPosicionValida(posAux)):\n",
    "                                    movimientos.append(cadena.format(ficha, str(pos), str(posAux)))\n",
    "        \n",
    "        return movimientos\n",
    "    \n",
    "    def result(self, state, action):\n",
    "        posIni = (int(action[19:25][1]), int(action[19:25][4]))\n",
    "        posFin = (int(action[40:46][1]), int(action[40:46][4]))\n",
    "        ficha = action[6]\n",
    "\n",
    "        estado = dict(state)\n",
    "        self.posiciones.remove(posIni)\n",
    "        self.posiciones.append(posFin)\n",
    "\n",
    "        estado[ficha].remove(posIni)\n",
    "        estado[ficha].append(posFin)\n",
    "\n",
    "        return tuple([tuple(x) for x in estado.items()])\n",
    "    \n",
    "    def goal_test(self, state):\n",
    "        return \"\"\n",
    "\n",
    "    def esPosicionValida(self, pos):\n",
    "        return pos[0] >= 0 and pos[0] < self.N and pos[1] >= 0 and pos[1] < self.N\n",
    "\n",
    "    def esMovimientoValido(self, ficha, pos):\n",
    "        match ficha:\n",
    "            case 'V' | 'H':\n",
    "                return self.posiciones.count(pos) == 0\n",
    "            case 'L':\n",
    "                return self.posiciones.count(pos) == 0 and self.esPosicionValida(pos)\n",
    "            case 'S':\n",
    "                return self.posiciones.count(pos) > 0 and self.esPosicionValida(pos)\n",
    "\n",
    "        \n",
    "\n",
    "\n",
    "    "
   ]
  },
  {
   "cell_type": "code",
   "execution_count": 3,
   "metadata": {},
   "outputs": [],
   "source": [
    "N = int(input(\"Introduzca las dimensiones del tablero: \"))\n",
    "Y = int(input(\"Introduzca el numero distinto de fichas que desea: \"))\n",
    "\n",
    "while(Y > N):\n",
    "    print(\"El conjunto de fichas no puede ser mayor a las dimensiones del tablero\")\n",
    "    N = int(input(\"Introduzca las dimensiones del tablero: \"))\n",
    "    Y = int(input(\"Introduzca el numero distinto de fichas que desea: \"))\n",
    "\n",
    "fichas = ['V'] * Y + ['H'] * Y + ['L'] * Y + ['S'] * Y\n"
   ]
  },
  {
   "cell_type": "code",
   "execution_count": 4,
   "metadata": {},
   "outputs": [
    {
     "data": {
      "text/plain": [
       "['Mover V situada en (3, 2) a la posicion (3, 1)',\n",
       " 'Mover V situada en (3, 2) a la posicion (3, 0)',\n",
       " 'Mover V situada en (3, 2) a la posicion (3, 3)',\n",
       " 'Mover V situada en (3, 2) a la posicion (3, 4)',\n",
       " 'Mover H situada en (2, 1) a la posicion (1, 1)',\n",
       " 'Mover H situada en (2, 1) a la posicion (3, 1)',\n",
       " 'Mover H situada en (2, 1) a la posicion (4, 1)',\n",
       " 'Mover L situada en (0, 3) a la posicion (0, 2)',\n",
       " 'Mover L situada en (0, 3) a la posicion (0, 4)',\n",
       " 'Mover L situada en (0, 3) a la posicion (1, 2)',\n",
       " 'Mover L situada en (0, 3) a la posicion (1, 3)',\n",
       " 'Mover L situada en (0, 3) a la posicion (1, 4)']"
      ]
     },
     "execution_count": 4,
     "metadata": {},
     "output_type": "execute_result"
    }
   ],
   "source": [
    "#Diccionario que asigna un char a una lista de tuplas\n",
    "tablero = {'V' : [], 'H' : [], 'L' : [], 'S' : []}\n",
    "#Lista de posiciones para asegurar que no haya ninguna posicion repetida\n",
    "posiciones = []\n",
    "for f in fichas:\n",
    "    pos = (random.randrange(0, N), random.randrange(0, N))\n",
    "    while(posiciones.count(pos) != 0):\n",
    "        pos = (random.randrange(0, N), random.randrange(0, N))\n",
    "    tablero[f].append(pos)\n",
    "    posiciones.append(pos)\n",
    "\n",
    "m = Movix(tuple([tuple(x) for x in tablero.items()]), (), tablero, N, posiciones)\n",
    "movimientos = m.actions(m.initial)\n",
    "movimientos"
   ]
  },
  {
   "cell_type": "code",
   "execution_count": 5,
   "metadata": {},
   "outputs": [
    {
     "data": {
      "text/plain": [
       "(('V', [(3, 1)]), ('H', [(2, 1)]), ('L', [(0, 3)]), ('S', [(0, 1)]))"
      ]
     },
     "execution_count": 5,
     "metadata": {},
     "output_type": "execute_result"
    }
   ],
   "source": [
    "m.result(m.initial, movimientos[0])"
   ]
  }
 ],
 "metadata": {
  "kernelspec": {
   "display_name": "Python 3",
   "language": "python",
   "name": "python3"
  },
  "language_info": {
   "codemirror_mode": {
    "name": "ipython",
    "version": 3
   },
   "file_extension": ".py",
   "mimetype": "text/x-python",
   "name": "python",
   "nbconvert_exporter": "python",
   "pygments_lexer": "ipython3",
   "version": "3.12.4"
  }
 },
 "nbformat": 4,
 "nbformat_minor": 2
}
