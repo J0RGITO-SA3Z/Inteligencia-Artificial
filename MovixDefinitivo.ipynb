{
 "cells": [
  {
   "cell_type": "code",
   "execution_count": 40,
   "id": "ef039df2-74ae-4915-9881-359e61d1b681",
   "metadata": {},
   "outputs": [],
   "source": [
    "from search import *"
   ]
  },
  {
   "cell_type": "code",
   "execution_count": null,
   "id": "7c366d51-e348-4eea-b987-289d82ff6f9f",
   "metadata": {},
   "outputs": [],
   "source": [
    "import copy\n",
    "\n",
    "import re\n",
    "\n",
    "from search import *\n",
    "\n",
    "\n",
    "class Movix(Problem):\n",
    "    N = 0\n",
    "    Y = 0\n",
    "\n",
    "    def __init__(self, N, Y, initial, goal=None):\n",
    "        '''Inicializacion de nuestro problema.'''\n",
    "        Problem.__init__(self, initial, goal)\n",
    "        self.N = N\n",
    "        self.Y = Y\n",
    "        self._actions = []\n",
    "\n",
    "        for i in range(1, N):\n",
    "            self._actions.append(('V', (0, i)))\n",
    "            self._actions.append(('V', (0, -i)))\n",
    "\n",
    "        for i in range(1, N):\n",
    "            self._actions.append(('H', (i, 0)))\n",
    "            self._actions.append(('H', (-i, 0)))\n",
    "\n",
    "        for i in range(-1, 2):\n",
    "            for j in range(-1, 2):\n",
    "                if i != 0 or j != 0:\n",
    "                    self._actions.append(('L', (i, j)))\n",
    "                    if i == 0 or j == 0:\n",
    "                        self._actions.append(('S', (2 * i, 2 * j)))\n",
    "\n",
    "    def actions(self, s):\n",
    "        actions_list = []\n",
    "        for a in self._actions:\n",
    "            for pos in s[0][a[0]]:\n",
    "                if self._is_valid(a, pos, s):\n",
    "                    actions_list.append(\"Mover ficha {} de ({},{}) a ({},{})\".format(a[0], pos[0], pos[1], (pos[0] + a[1][0]), (pos[1] + a[1][1])))\n",
    "\n",
    "        return actions_list\n",
    "\n",
    "    def _is_valid(self, a, pos, s):\n",
    "        fil, col = (pos[0] + a[1][0], pos[1] + a[1][1])\n",
    "         # Verificamos si la ficha está dentro de los límites del tablero\n",
    "        if fil >= self.N or fil < 0 or col >= self.N or col < 0:\n",
    "            return False  # Si alguna ficha está fuera de los límites, el estado no es válido\n",
    "        if fil in s[1] and col in s[1][fil]:\n",
    "            return False\n",
    "        if a[0] == 'V' and fil in s[1] and (any(pos[1] < y < col for y in s[1][fil]) or any(col < y < pos[1] for y in s[1][fil])):\n",
    "            return False\n",
    "        if a[0] == 'H' and col in s[2] and (any(pos[0] < x < fil for x in s[2][col]) or any(fil < x < pos[0] for x in s[2][col])):\n",
    "            return False\n",
    "        if a[0] == 'S' and not (pos[0] + a[1][0]/2 in s[1] and (pos[1] + a[1][1]/2) in s[1][pos[0] + a[1][0]/2]):\n",
    "            return False\n",
    "        return True       # Si todas las fichas están dentro de los límites, y cumplen las propiedades el estado es válido\n",
    "\n",
    "    def result(self, s, action):\n",
    "\n",
    "        patron = r\"Mover ficha (\\w) de \\((\\d+),(\\d+)\\) a \\((\\d+),(\\d+)\\)\"\n",
    "        # Buscar los valores\n",
    "        resultado = re.findall(patron, action)\n",
    "\n",
    "        if resultado:\n",
    "            ficha, x1, y1, x2, y2 = resultado[0]\n",
    "            x1, y1 = int(x1), int(y1)\n",
    "            x2, y2 = int(x2), int(y2)\n",
    "\n",
    "            new_s = copy.deepcopy(s)\n",
    "\n",
    "            new_s[0][ficha].remove((x1, y1))\n",
    "            #no deberia hacer falta comprobar con estos ifs \n",
    "            if y1 in new_s[2] and x1 in new_s[2][y1]:\n",
    "                new_s[2][y1].pop(x1)\n",
    "            if x1 in new_s[1] and y1 in new_s[1][x1]:\n",
    "                new_s[1][x1].pop(y1)\n",
    "\n",
    "            \n",
    "            if x1 in new_s[1] and len(new_s[1][x1]) == 0:\n",
    "                del new_s[1][x1]\n",
    "            if y1 in new_s[2] and len(new_s[2][y1]) == 0:\n",
    "                del new_s[2][y1]\n",
    "\n",
    "            \n",
    "            if x2 not in new_s[1]:\n",
    "                new_s[1][x2] = {}\n",
    "\n",
    "            if y2 not in new_s[2]:\n",
    "                new_s[2][y2] = {}\n",
    "\n",
    "            new_s[0][ficha].append((x2, y2))\n",
    "            new_s[1][x2][y2] = ficha\n",
    "            new_s[2][y2][x2] = ficha\n",
    "\n",
    "            #nos aseguramos q todo este ordenado\n",
    "            \n",
    "            #return new_s\n",
    "            return (new_s[0], k: my_dict[k] for k in sorted(new_s[1]), k: my_dict[k] for k in sorted(new_s[2]))\n",
    "        else:\n",
    "            return None\n",
    "\n",
    "    def goal_test(self, s):\n",
    "        #linea = (len(s[1]) == 1 and max(s[2].keys()) - min(s[2].keys()) == self.Y*4 - 1) or (len(s[2]) == 1 and max(s[1].keys()) - min(s[1].keys()) == self.Y*4 - 1)\n",
    "        linea = len(s[1]) == 1 or len(s[2]) == 1\n",
    "\n",
    "        diagonal = True\n",
    "        #if len(s[1]) > 0 and len(s[1][min(s[1])]) > 0:\n",
    "        clave_minima = min(s[1])\n",
    "        diferencia = clave_minima - min(s[1][clave_minima])\n",
    "        for i in s[1]:\n",
    "            if(len(s[1][i]) > 1):\n",
    "                diagonal = False\n",
    "                break\n",
    "            elif(i - min(s[1][i]) != diferencia):\n",
    "                diagonal = False\n",
    "                break\n",
    "\n",
    "        return linea or diagonal\n"
   ]
  },
  {
   "cell_type": "code",
   "execution_count": null,
   "id": "d156127d-db68-4c7b-a36b-7325f8c3de4b",
   "metadata": {},
   "outputs": [],
   "source": [
    "s = (\n",
    "    {'S': [(1, 1)], 'H': [(3, 1)], 'L': [(2, 2)], 'V': [(0, 3)]},\n",
    "    {0: {3: 'V'}, 1: {1: 'S'}, 2: {2: 'L'}, 3: {1: 'H'}},\n",
    "    {1: {1: 'S', 3: 'H'}, 2: {2: 'L'}, 3: {0: 'V'}}\n",
    "    )\n",
    "\n",
    "#(('S', (1, 1)), ('H', (3, 1)), ('L', (2, 2)), ('V', (0, 3))) #(('_', '_', '_', '_', '_'), ('_', 'S', '_', 'H', '_'), ('_', '_', 'L', '_', '_'), ('V', '_', '_', '_', '_'), ('_', '_', '_', '_', '_')) #{'V':(0, 0), 'H':(3, 3), 'S':(2, 2), 'L':(4, 4)}"
   ]
  },
  {
   "cell_type": "code",
   "execution_count": null,
   "id": "95fee3df-8cb9-498e-b76c-060c74af08f1",
   "metadata": {},
   "outputs": [],
   "source": [
    "p = Movix(5, 1, s)\n",
    "p.initial"
   ]
  },
  {
   "cell_type": "code",
   "execution_count": null,
   "id": "b731f432-c2d8-408f-9049-01402eb5b5e4",
   "metadata": {
    "scrolled": true
   },
   "outputs": [],
   "source": [
    "p.actions(p.initial)"
   ]
  },
  {
   "cell_type": "code",
   "execution_count": null,
   "id": "1f80bacb-8f19-4db7-8cbd-78d65ac5ec4f",
   "metadata": {},
   "outputs": [],
   "source": [
    "breadth_first_tree_search(Movix(10, 1, s)).solution()"
   ]
  },
  {
   "cell_type": "code",
   "execution_count": null,
   "id": "4397dcb8-d1b1-4e8b-b6eb-ac7c92033996",
   "metadata": {},
   "outputs": [],
   "source": [
    "s = (\n",
    "    {'S': [(1, 7), (3, 7)], 'H': [(1, 5), (8, 2)], 'L': [(4, 1), (3, 9)], 'V': [(4, 6), (6, 7)]},\n",
    "    {1: {5: 'H', 7: 'S'}, 3: {7: 'S', 9: 'L'}, 4: {1: 'L', 6: 'V'}, 6: {7: 'V'}, 8: {2: 'H'}},\n",
    "    {1: {6: 'L'}, 2: {8: 'H'}, 5: {1: 'H'}, 6: {4: 'V'}, 7: {1: 'S', 3: 'S', 6: 'V'}, 9: {3: 'L'}}\n",
    ")\n",
    "p = Movix(10, 2, s)"
   ]
  },
  {
   "cell_type": "code",
   "execution_count": null,
   "id": "cce0e54f-cbec-4dbd-9962-74d83b1bdb0b",
   "metadata": {
    "scrolled": true
   },
   "outputs": [],
   "source": [
    "breadth_first_tree_search(p).solution()"
   ]
  },
  {
   "cell_type": "code",
   "execution_count": null,
   "id": "90bce7de-f7c2-4f79-837b-ab17976a3905",
   "metadata": {},
   "outputs": [],
   "source": []
  }
 ],
 "metadata": {
  "kernelspec": {
   "display_name": "Python 3 (ipykernel)",
   "language": "python",
   "name": "python3"
  },
  "language_info": {
   "codemirror_mode": {
    "name": "ipython",
    "version": 3
   },
   "file_extension": ".py",
   "mimetype": "text/x-python",
   "name": "python",
   "nbconvert_exporter": "python",
   "pygments_lexer": "ipython3",
   "version": "3.10.11"
  }
 },
 "nbformat": 4,
 "nbformat_minor": 5
}
