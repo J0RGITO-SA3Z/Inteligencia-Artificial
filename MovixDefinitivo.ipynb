{
 "cells": [
  {
   "cell_type": "code",
   "execution_count": 21,
   "id": "ef039df2-74ae-4915-9881-359e61d1b681",
   "metadata": {},
   "outputs": [],
   "source": [
    "from search import *\n",
    "import random"
   ]
  },
  {
   "cell_type": "code",
   "execution_count": 22,
   "id": "7c366d51-e348-4eea-b987-289d82ff6f9f",
   "metadata": {},
   "outputs": [],
   "source": [
    "import copy\n",
    "\n",
    "import re\n",
    "\n",
    "from search import *\n",
    "\n",
    "\n",
    "class Movix(Problem):\n",
    "    N = 0\n",
    "    Y = 0\n",
    "    muros = []\n",
    "\n",
    "    def __init__(self, N, Y, initial, goal=None, muros = []):\n",
    "        '''Inicializacion de nuestro problema.'''\n",
    "        Problem.__init__(self, initial, goal)\n",
    "        self.N = N\n",
    "        self.Y = Y\n",
    "        self._actions = []\n",
    "        self.muros = muros\n",
    "\n",
    "        for i in range(1, N):\n",
    "            self._actions.append(('V', (0, i)))\n",
    "            self._actions.append(('V', (0, -i)))\n",
    "\n",
    "        for i in range(1, N):\n",
    "            self._actions.append(('H', (i, 0)))\n",
    "            self._actions.append(('H', (-i, 0)))\n",
    "\n",
    "        for i in range(-1, 2):\n",
    "            for j in range(-1, 2):\n",
    "                if i != 0 or j != 0:\n",
    "                    self._actions.append(('L', (i, j)))\n",
    "                    if i == 0 or j == 0:\n",
    "                        self._actions.append(('S', (2 * i, 2 * j)))\n",
    "\n",
    "    def mostrarAcciones(self):\n",
    "        print(self._actions)\n",
    "\n",
    "    def actions(self, s):\n",
    "        actions_list = []\n",
    "        for a in self._actions:\n",
    "            for pos in s[0][a[0]]:\n",
    "                if self._is_valid(a, pos, s):\n",
    "                #if self.esValido(a, pos, s):\n",
    "                    actions_list.append(\"Mover ficha {} de ({},{}) a ({},{})\".format(a[0], pos[0], pos[1], (pos[0] + a[1][0]), (pos[1] + a[1][1])))\n",
    "\n",
    "        return actions_list\n",
    "\n",
    "    #Nuevo is_valid con la condicion adicional de los muros\n",
    "    def _is_valid(self, a, pos, s):\n",
    "        fila, columna = (pos[0] + a[1][0], pos[1] + a[1][1])\n",
    "        #Compruebo que la posicion este dentro de las dimensiones del tablero, que no hay ninguna ficha\n",
    "        #en dicha posicion y que tampoco haya ningun muro\n",
    "        if (fila < self.N and fila >= 0 and columna < self.N and columna >= 0 and \n",
    "            (fila not in s[1] or columna not in s[1][fila]) and self.muros.count((fila, columna)) == 0):\n",
    "            match a[0]:\n",
    "                case 'V':\n",
    "                    return not(fila in s[1] and (any(pos[1] < y < columna for y in s[1][fila]) or any(columna < y < pos[1] for y in s[1][fila])))\n",
    "                case 'H':\n",
    "                    return not(columna in s[2] and (any(pos[0] < x < fila for x in s[2][columna]) or any(fila < x < pos[0] for x in s[2][columna])))\n",
    "                case 'S':\n",
    "                    #Como la ficha S no puede saltar muros compruebo adicionalmente que no haya un muro en la casilla adyacente a S\n",
    "                    return not(not (pos[0] + a[1][0]/2 in s[1] and (pos[1] + a[1][1]/2) in s[1][pos[0] + a[1][0]/2])) and self.muros.count((pos[0] + a[1][0]/2, pos[1] + a[1][1]/2)) == 0\n",
    "                case 'L':\n",
    "                    return True\n",
    "        else:\n",
    "            return False\n",
    "        \n",
    "    #Antiguo is_valid\n",
    "    def esValido(self, a, pos, s):\n",
    "        fil, col = (pos[0] + a[1][0], pos[1] + a[1][1])\n",
    "         # Verificamos si la ficha está dentro de los límites del tablero\n",
    "        if fil >= self.N or fil < 0 or col >= self.N or col < 0:\n",
    "            return False  # Si alguna ficha está fuera de los límites, el estado no es válido\n",
    "        if fil in s[1] and col in s[1][fil]:\n",
    "            return False\n",
    "        if a[0] == 'V' and fil in s[1] and (any(pos[1] < y < col for y in s[1][fil]) or any(col < y < pos[1] for y in s[1][fil])):\n",
    "            return False\n",
    "        if a[0] == 'H' and col in s[2] and (any(pos[0] < x < fil for x in s[2][col]) or any(fil < x < pos[0] for x in s[2][col])):\n",
    "            return False\n",
    "        if a[0] == 'S' and not (pos[0] + a[1][0]/2 in s[1] and (pos[1] + a[1][1]/2) in s[1][pos[0] + a[1][0]/2]):\n",
    "            return False\n",
    "        return True       # Si todas las fichas están dentro de los límites, y cumplen las propiedades el estado es válido\n",
    "\n",
    "    def result(self, s, action):\n",
    "        patron = r\"Mover ficha (\\w) de \\((\\d+),(\\d+)\\) a \\((\\d+),(\\d+)\\)\"\n",
    "        # Buscar los valores\n",
    "        resultado = re.findall(patron, action)\n",
    "\n",
    "        if resultado:\n",
    "            ficha, x1, y1, x2, y2 = resultado[0]\n",
    "            x1, y1 = int(x1), int(y1)\n",
    "            x2, y2 = int(x2), int(y2)\n",
    "\n",
    "            new_s = copy.deepcopy(s)\n",
    "\n",
    "            new_s[0][ficha].remove((x1, y1))\n",
    "            #no deberia hacer falta comprobar con estos ifs \n",
    "            if y1 in new_s[2] and x1 in new_s[2][y1]:\n",
    "                new_s[2][y1].pop(x1)\n",
    "            if x1 in new_s[1] and y1 in new_s[1][x1]:\n",
    "                new_s[1][x1].pop(y1)\n",
    "\n",
    "            \n",
    "            if x1 in new_s[1] and len(new_s[1][x1]) == 0:\n",
    "                del new_s[1][x1]\n",
    "            if y1 in new_s[2] and len(new_s[2][y1]) == 0:\n",
    "                del new_s[2][y1]\n",
    "\n",
    "            \n",
    "            if x2 not in new_s[1]:\n",
    "                new_s[1][x2] = {}\n",
    "\n",
    "            if y2 not in new_s[2]:\n",
    "                new_s[2][y2] = {}\n",
    "\n",
    "            new_s[0][ficha].append((x2, y2))\n",
    "            new_s[1][x2][y2] = ficha\n",
    "            new_s[2][y2][x2] = ficha\n",
    "\n",
    "            #nos aseguramos q todo este ordenado\n",
    "            \n",
    "            #return new_s\n",
    "            return (new_s[0], \n",
    "                    {k: new_s[1][k] for k in sorted(new_s[1].keys())},\n",
    "                    {k: new_s[2][k] for k in sorted(new_s[2].keys())})\n",
    "        else:\n",
    "            return None\n",
    "\n",
    "    def goal_test(self, s):\n",
    "        #linea = (len(s[1]) == 1 and max(s[2].keys()) - min(s[2].keys()) == self.Y*4 - 1) or (len(s[2]) == 1 and max(s[1].keys()) - min(s[1].keys()) == self.Y*4 - 1)\n",
    "        linea = len(s[1]) == 1 or len(s[2]) == 1\n",
    "\n",
    "        diagonal = True\n",
    "        #if len(s[1]) > 0 and len(s[1][min(s[1])]) > 0:\n",
    "        clave_minima = min(s[1])\n",
    "        diferencia = clave_minima - min(s[1][clave_minima])\n",
    "        for i in s[1]:\n",
    "            if(len(s[1][i]) > 1):\n",
    "                diagonal = False\n",
    "                break\n",
    "            elif(i - min(s[1][i]) != diferencia):\n",
    "                diagonal = False\n",
    "                break\n",
    "\n",
    "        return linea or diagonal\n"
   ]
  },
  {
   "cell_type": "code",
   "execution_count": 23,
   "id": "10c1700d",
   "metadata": {},
   "outputs": [
    {
     "data": {
      "text/plain": [
       "({'S': [(4, 4)], 'H': [(4, 4)], 'V': [(4, 0)], 'L': [(3, 4)]},\n",
       " {4: {4: 'H', 0: 'V'}, 3: {4: 'L'}},\n",
       " {4: {4: 'H', 3: 'L'}, 0: {4: 'V'}})"
      ]
     },
     "execution_count": 23,
     "metadata": {},
     "output_type": "execute_result"
    }
   ],
   "source": [
    "N = int(input(\"Introduzca el numero de casillas que tendra el tablero: \"))\n",
    "Y = int(input(\"Introduzca el numero de fichas que habra en el tablero: \"))\n",
    "M = int(input(\"Cuantos muros desea que haya en el tablero: \"))\n",
    "\n",
    "while(Y > N):\n",
    "    print(\"El numero de fichas no puede ser mayor a las dimensiones del tablero\")\n",
    "    N = int(input(\"Introduzca el numero de casillas que tendra el tablero: \"))\n",
    "    Y = int(input(\"Introduzca el numero de fichas que habra en el tablero\"))\n",
    "\n",
    "#Lista de posiciones para asegurar que no se repita ninguna posicion\n",
    "posiciones = []\n",
    "\n",
    "#Lista que almacena las posiciones de los muros\n",
    "muros = []\n",
    "\n",
    "#Diccionario que relaciona el tipo de ficha con la lista de las distintas posiciones donde estan\n",
    "fichasPos = {'S' : [], 'H' : [], 'V' : [], 'L' : []}\n",
    "\n",
    "for ficha in fichasPos:\n",
    "    for i in range (0, Y):\n",
    "        pos = (random.randrange(0, N), random.randrange(0, N))\n",
    "        while(posiciones.count(pos) > 0):\n",
    "            pos = (random.randrange(0, N), random.randrange(0, N))\n",
    "\n",
    "        fichasPos[ficha].append(pos)\n",
    "\n",
    "for m in range(0, M):\n",
    "    muro = (random.randrange(0, N), random.randrange(0, N))\n",
    "    while(posiciones.count(muro) > 0 or muros.count(muro) > 0):\n",
    "        muro = (random.randrange(0, N), random.randrange(0, N))\n",
    "\n",
    "    muros.append(muro)\n",
    "\n",
    "#Diccionario que guarda todas las fichas que estan en una fila con la columna en la que esta y el tipo de ficha que es\n",
    "xToFicha = {}\n",
    "#Diccionario que guarda todas las fichas que estan en una columna con la fila en la que esta y el tipo de ficha que es\n",
    "yToFicha = {}\n",
    "\n",
    "for ficha, posiciones in fichasPos.items():\n",
    "    for pos in posiciones:\n",
    "        if pos[0] not in xToFicha:  xToFicha[pos[0]] = {pos[1] : ficha}\n",
    "        else: xToFicha[pos[0]] = xToFicha[pos[0]] | {pos[1] : ficha}\n",
    "\n",
    "        if pos[1] not in yToFicha:  yToFicha[pos[1]] = {pos[0] : ficha}\n",
    "        else: yToFicha[pos[1]] = yToFicha[pos[1]] | {pos[0] : ficha}\n",
    "\n",
    "#Inicializo la tupla con los tres diccionarios para almacenar el estado\n",
    "estado = (fichasPos, xToFicha, yToFicha)\n",
    "estado\n"
   ]
  },
  {
   "cell_type": "code",
   "execution_count": 24,
   "id": "d156127d-db68-4c7b-a36b-7325f8c3de4b",
   "metadata": {},
   "outputs": [],
   "source": [
    "s = (\n",
    "    {'S': [(1, 1)], 'H': [(3, 1)], 'L': [(2, 2)], 'V': [(0, 3)]},\n",
    "    {0: {3: 'V'}, 1: {1: 'S'}, 2: {2: 'L'}, 3: {1: 'H'}},\n",
    "    {1: {1: 'S', 3: 'H'}, 2: {2: 'L'}, 3: {0: 'V'}}\n",
    "    )\n",
    "\n",
    "#(('S', (1, 1)), ('H', (3, 1)), ('L', (2, 2)), ('V', (0, 3))) #(('_', '_', '_', '_', '_'), ('_', 'S', '_', 'H', '_'), ('_', '_', 'L', '_', '_'), ('V', '_', '_', '_', '_'), ('_', '_', '_', '_', '_')) #{'V':(0, 0), 'H':(3, 3), 'S':(2, 2), 'L':(4, 4)}"
   ]
  },
  {
   "cell_type": "code",
   "execution_count": 25,
   "id": "95fee3df-8cb9-498e-b76c-060c74af08f1",
   "metadata": {},
   "outputs": [
    {
     "name": "stdout",
     "output_type": "stream",
     "text": [
      "[('V', (0, 1)), ('V', (0, -1)), ('V', (0, 2)), ('V', (0, -2)), ('V', (0, 3)), ('V', (0, -3)), ('V', (0, 4)), ('V', (0, -4)), ('H', (1, 0)), ('H', (-1, 0)), ('H', (2, 0)), ('H', (-2, 0)), ('H', (3, 0)), ('H', (-3, 0)), ('H', (4, 0)), ('H', (-4, 0)), ('L', (-1, -1)), ('L', (-1, 0)), ('S', (-2, 0)), ('L', (-1, 1)), ('L', (0, -1)), ('S', (0, -2)), ('L', (0, 1)), ('S', (0, 2)), ('L', (1, -1)), ('L', (1, 0)), ('S', (2, 0)), ('L', (1, 1))]\n"
     ]
    }
   ],
   "source": [
    "#Las pruebas que he hecho han sido todas con la tupla s\n",
    "#Para probar con el tablero aleatorio hay que poner estado en vez de s y ya\n",
    "#(No garantizo que la aleatoriedad del tablero no pueda reventar la RAM)\n",
    "p = Movix(N, Y, s, muros)\n",
    "#Funcion que he hecho simplemente para entender el codigo\n",
    "p.mostrarAcciones()"
   ]
  },
  {
   "cell_type": "code",
   "execution_count": 26,
   "id": "b731f432-c2d8-408f-9049-01402eb5b5e4",
   "metadata": {
    "scrolled": true
   },
   "outputs": [
    {
     "data": {
      "text/plain": [
       "['Mover ficha V de (0,3) a (0,4)',\n",
       " 'Mover ficha V de (0,3) a (0,2)',\n",
       " 'Mover ficha V de (0,3) a (0,1)',\n",
       " 'Mover ficha V de (0,3) a (0,0)',\n",
       " 'Mover ficha H de (3,1) a (4,1)',\n",
       " 'Mover ficha H de (3,1) a (2,1)',\n",
       " 'Mover ficha L de (2,2) a (1,2)',\n",
       " 'Mover ficha L de (2,2) a (1,3)',\n",
       " 'Mover ficha L de (2,2) a (2,1)',\n",
       " 'Mover ficha L de (2,2) a (2,3)',\n",
       " 'Mover ficha L de (2,2) a (3,2)',\n",
       " 'Mover ficha L de (2,2) a (3,3)']"
      ]
     },
     "execution_count": 26,
     "metadata": {},
     "output_type": "execute_result"
    }
   ],
   "source": [
    "p.actions(p.initial)"
   ]
  },
  {
   "cell_type": "code",
   "execution_count": 27,
   "id": "1f80bacb-8f19-4db7-8cbd-78d65ac5ec4f",
   "metadata": {},
   "outputs": [],
   "source": [
    "#breadth_first_tree_search(Movix(10, 1, s)).solution()"
   ]
  },
  {
   "cell_type": "code",
   "execution_count": 28,
   "id": "4397dcb8-d1b1-4e8b-b6eb-ac7c92033996",
   "metadata": {},
   "outputs": [],
   "source": [
    "s = (\n",
    "    {'S': [(1, 7), (3, 7)], 'H': [(1, 5), (8, 2)], 'L': [(4, 1), (3, 9)], 'V': [(4, 6), (6, 7)]},\n",
    "    {1: {5: 'H', 7: 'S'}, 3: {7: 'S', 9: 'L'}, 4: {1: 'L', 6: 'V'}, 6: {7: 'V'}, 8: {2: 'H'}},\n",
    "    {1: {6: 'L'}, 2: {8: 'H'}, 5: {1: 'H'}, 6: {4: 'V'}, 7: {1: 'S', 3: 'S', 6: 'V'}, 9: {3: 'L'}}\n",
    ")\n",
    "p = Movix(10, 2, s)"
   ]
  },
  {
   "cell_type": "code",
   "execution_count": 29,
   "id": "cce0e54f-cbec-4dbd-9962-74d83b1bdb0b",
   "metadata": {
    "scrolled": true
   },
   "outputs": [],
   "source": [
    "#breadth_first_tree_search(p).solution()"
   ]
  }
 ],
 "metadata": {
  "kernelspec": {
   "display_name": "Python 3",
   "language": "python",
   "name": "python3"
  },
  "language_info": {
   "codemirror_mode": {
    "name": "ipython",
    "version": 3
   },
   "file_extension": ".py",
   "mimetype": "text/x-python",
   "name": "python",
   "nbconvert_exporter": "python",
   "pygments_lexer": "ipython3",
   "version": "3.12.4"
  }
 },
 "nbformat": 4,
 "nbformat_minor": 5
}
