{
 "cells": [
  {
   "cell_type": "markdown",
   "metadata": {
    "id": "OUBRwgEu3yu1"
   },
   "source": [
    "# Práctica 3: Procesamiento del Lenguaje Natural\n",
    "\n",
    "__Fecha de entrega: 16 de mayo de 2025__\n",
    "\n",
    "El objetivo de esta práctica es aplicar los conceptos teóricos vistos en clase en el módulo de PLN.\n",
    "\n",
    "Lo más importante en esta práctica no es el código Python, sino el análisis de los datos y modelos que construyas y las explicaciones razonadas de cada una de las decisiones que tomes. __No se valorarán trozos de código o gráficas sin ningún tipo de contexto o explicación__.\n",
    "\n",
    "Finalmente, recuerda establecer el parámetro `random_state` en todas las funciones que tomen decisiones aleatorias para que los resultados sean reproducibles (los resultados no varíen entre ejecuciones)."
   ]
  },
  {
   "cell_type": "code",
   "execution_count": 1,
   "metadata": {
    "id": "V3YxCTUW3yu9"
   },
   "outputs": [],
   "source": [
    "RANDOM_STATE = 1234"
   ]
  },
  {
   "cell_type": "markdown",
   "metadata": {
    "id": "yeVD_g2D3yvC"
   },
   "source": [
    "# 1) Carga del conjunto de datos\n",
    "\n",
    "Los ficheros `fake.csv` y `true.csv` contienen artícuos de noticias clasificadas como fake (falsas) o true (reales) respectivamente. Cada noticia tiene como atributos:\n",
    "\n",
    "*   Title: título de la noticia\n",
    "*   Text: cuerpo del texto de la noticia\n",
    "*   Subject: tema de la noticia\n",
    "*   Date: fecha de publicación de la noticia\n",
    "\n",
    "Muestra un ejemplo de cada clase.\n",
    "\n",
    "Haz un estudio del conjunto de datos. ¿qué palabras aparecen más veces?, ¿tendría sentido normalizar de alguna manera el corpus?\n",
    "\n",
    "Crea una partición de los datos dejando el 60% para entrenamiento, 20% para validación y el 20% restante para test. Comprueba que la distribución de los ejemplos en las particiones es similar."
   ]
  },
  {
   "cell_type": "markdown",
   "metadata": {},
   "source": [
    "<div style=\"color: #a3c6ff; background-color: #212121; padding: 15px; border-radius: 8px;\">\n",
    "  Lo primero que hacemos es simplemente cargar los datos, juntarlos, sacar un ejemplo de cada (ua noticia real y una falsa) e imprimir qué \"forma\" tienen los datos.\n",
    "</div>"
   ]
  },
  {
   "cell_type": "code",
   "execution_count": 17,
   "metadata": {
    "id": "fA0ieoO6QPik"
   },
   "outputs": [
    {
     "name": "stdout",
     "output_type": "stream",
     "text": [
      "Ejemplo de noticia falsa:\n",
      "title       Donald Trump Sends Out Embarrassing New Year’...\n",
      "text       Donald Trump just couldn t wish all Americans ...\n",
      "subject                                                 News\n",
      "date                                       December 31, 2017\n",
      "Name: 0, dtype: object\n",
      "\n",
      "Ejemplo de noticia real:\n",
      "title      As U.S. budget fight looms, Republicans flip t...\n",
      "text       WASHINGTON (Reuters) - The head of a conservat...\n",
      "subject                                         politicsNews\n",
      "date                                      December 31, 2017 \n",
      "Name: 0, dtype: object\n",
      "Columnas del DataFrame: ['title', 'text', 'subject', 'date', 'label'] \n",
      "\n",
      "<class 'pandas.core.frame.DataFrame'>\n",
      "RangeIndex: 44898 entries, 0 to 44897\n",
      "Data columns (total 5 columns):\n",
      " #   Column   Non-Null Count  Dtype \n",
      "---  ------   --------------  ----- \n",
      " 0   title    44898 non-null  object\n",
      " 1   text     44898 non-null  object\n",
      " 2   subject  44898 non-null  object\n",
      " 3   date     44898 non-null  object\n",
      " 4   label    44898 non-null  object\n",
      "dtypes: object(5)\n",
      "memory usage: 1.7+ MB\n"
     ]
    }
   ],
   "source": [
    "import pandas as pd\n",
    "\n",
    "# Cargar los datos\n",
    "fake_df = pd.read_csv('fake.csv')\n",
    "true_df = pd.read_csv('true.csv')\n",
    "\n",
    "# Concatenar ambos DataFrames\n",
    "# Todavía no los mezclamos\n",
    "fake_df['label'] = 'fake'\n",
    "true_df['label'] = 'true'\n",
    "data = pd.concat([fake_df, true_df], ignore_index=True)\n",
    "\n",
    "# Mostrar un ejemplo de cada tipo\n",
    "print(\"Ejemplo de noticia falsa:\")\n",
    "print(fake_df[['title', 'text', 'subject', 'date']].iloc[0])\n",
    "\n",
    "print(\"\\nEjemplo de noticia real:\")\n",
    "print(true_df[['title', 'text', 'subject', 'date']].iloc[0])\n",
    "\n",
    "# Ver los nombres de las columnas\n",
    "print(\"Columnas del DataFrame:\", data.columns.tolist(), \"\\n\")\n",
    "\n",
    "# Ver nº de filas, columnas, tipos y no-nulos\n",
    "data.info()"
   ]
  },
  {
   "cell_type": "markdown",
   "metadata": {},
   "source": [
    "<div style=\"color: #a3c6ff; background-color: #212121; padding: 15px; border-radius: 8px;\">\n",
    "    Aquí lo que hacemos es, sacar todas las palabras usando una regex ('\\b[a-z]{2,}\\b' todas las palabras de 2 o más caracteres que contengan todas las letras de la \"a\" a la \"z\", en minúsculas porque ya le hacemos un lowercase), luego contamos su frecuencia y sacamos las 20 más frecuentes.\n",
    "</div>"
   ]
  },
  {
   "cell_type": "code",
   "execution_count": 36,
   "metadata": {},
   "outputs": [
    {
     "name": "stdout",
     "output_type": "stream",
     "text": [
      "20 palabras más frecuentes (en el texto sin normalizar):\n",
      "the: 1026019\n",
      "to: 536553\n",
      "of: 441915\n",
      "and: 409052\n",
      "in: 352815\n",
      "that: 239899\n",
      "on: 192185\n",
      "for: 173375\n",
      "is: 166728\n",
      "trump: 134000\n",
      "he: 133367\n",
      "it: 132970\n",
      "said: 132825\n",
      "with: 117923\n",
      "was: 115803\n",
      "as: 105098\n",
      "his: 96369\n",
      "by: 95852\n",
      "has: 88563\n",
      "be: 83698\n"
     ]
    }
   ],
   "source": [
    "from collections import Counter\n",
    "import re\n",
    "\n",
    "# Unimos todos los textos en una sola cadena, separándolos con espacios\n",
    "all_text = \" \".join(data['text'].tolist())\n",
    "\n",
    "# Sacamos todas las palabras en el texto usando una regex\n",
    "tokens = re.findall(r'\\b[a-z]{2,}\\b', all_text.lower())\n",
    "\n",
    "# Counter(tokens) construye un diccionario de la forma {token: número de veces que aparece}\n",
    "freqs = Counter(tokens)\n",
    "\n",
    "# most_common(20) devuelve una lista de tuplas de la forma [(palabra, frecuencia), …] ordenada de mayor a menor\n",
    "most_common = freqs.most_common(20)\n",
    "\n",
    "print(\"20 palabras más frecuentes (en el texto sin normalizar):\")\n",
    "for word, count in most_common:\n",
    "    print(f\"{word}: {count}\")"
   ]
  },
  {
   "cell_type": "markdown",
   "metadata": {},
   "source": [
    "<div style=\"color: #a3c6ff; background-color: #212121; padding: 15px; border-radius: 8px;\">\n",
    "  Imprimimos en una gráfica los resultados para que sea más visual.<br><br>\n",
    "\n",
    "  Analizando los resultados podemos ver que la mayoría de palabras son <strong>stopwords</strong>, por lo tanto nos merece la pena normalizar, aunque sea para eliminarlas. <br>\n",
    "  En la normalización también debemos pasar todo a <strong>lowercase</strong> (como ya hemos hecho para analizar las 20 palabras más frecuentes) para que no haya confusiones por las mayúsculas (queremos que nuestro modelo reconozca Hello como hello y vice versa). <br>\n",
    "  Por último, para simplificar los textos y que así el modelo se entrene más rápido, con menores costes y menores confusiones, vamos a hacer <strong>stemming</strong> a todos los textos.\n",
    "</div>"
   ]
  },
  {
   "cell_type": "code",
   "execution_count": 31,
   "metadata": {},
   "outputs": [
    {
     "data": {
      "image/png": "[encoded data removed]",
      "text/plain": [
       "<Figure size 1200x600 with 1 Axes>"
      ]
     },
     "metadata": {},
     "output_type": "display_data"
    }
   ],
   "source": [
    "import matplotlib.pyplot as plt\n",
    "\n",
    "# Separar palabras y cuentas para graficar\n",
    "words, counts = zip(*most_common)\n",
    "\n",
    "plt.figure(figsize=(12, 6))\n",
    "plt.bar(words, counts, color='skyblue')\n",
    "plt.xticks(rotation=45)\n",
    "plt.title('Top 20 palabras más frecuentes')\n",
    "plt.ylabel('Frecuencia')\n",
    "plt.grid(axis='y', linestyle='--', alpha=0.7)\n",
    "plt.tight_layout()\n",
    "plt.show()"
   ]
  },
  {
   "cell_type": "markdown",
   "metadata": {},
   "source": [
    "<div style=\"color: #a3c6ff; background-color: #212121; padding: 15px; border-radius: 8px;\">\n",
    "  Antes de pasar a normalizar y procesar los datos, dividimos en las 3 partes que se pedían: 60% para training, 20% para validación y el otro 20% para el test final.\n",
    "</div>"
   ]
  },
  {
   "cell_type": "code",
   "execution_count": 35,
   "metadata": {},
   "outputs": [
    {
     "name": "stdout",
     "output_type": "stream",
     "text": [
      "Entrenamiento (60%): 26938 ejemplos\n",
      "label\n",
      "fake    0.522979\n",
      "true    0.477021\n",
      "Name: proportion, dtype: float64 \n",
      "\n",
      "Validación (20%): 8980 ejemplos\n",
      "label\n",
      "fake    0.52294\n",
      "true    0.47706\n",
      "Name: proportion, dtype: float64 \n",
      "\n",
      "Test (20%): 8980 ejemplos\n",
      "label\n",
      "fake    0.523051\n",
      "true    0.476949\n",
      "Name: proportion, dtype: float64 \n",
      "\n"
     ]
    }
   ],
   "source": [
    "from sklearn.model_selection import train_test_split\n",
    "\n",
    "# División inicial: 60% entrenamiento, 40% para validación + test\n",
    "train_df, temp_df = train_test_split(\n",
    "    data,\n",
    "    test_size=0.4,\n",
    "    stratify=data['label'],\n",
    "    random_state=42\n",
    ")\n",
    "\n",
    "# División secundaria: 20% validación, 20% test (de la partición anterior)\n",
    "val_df, test_df = train_test_split(\n",
    "    temp_df,\n",
    "    test_size=0.5,\n",
    "    stratify=temp_df['label'],\n",
    "    random_state=42\n",
    ")\n",
    "\n",
    "# Mostrar tamaño y distribución de clases\n",
    "def mostrar_distribucion(df, nombre):\n",
    "    total = len(df)\n",
    "    distribucion = df['label'].value_counts(normalize=True)\n",
    "    print(f\"{nombre}: {total} ejemplos\")\n",
    "    print(distribucion, \"\\n\")\n",
    "\n",
    "mostrar_distribucion(train_df, \"Entrenamiento (60%)\")\n",
    "mostrar_distribucion(val_df, \"Validación (20%)\")\n",
    "mostrar_distribucion(test_df, \"Test (20%)\")"
   ]
  },
  {
   "cell_type": "markdown",
   "metadata": {
    "id": "r4rXv3xX3yvG"
   },
   "source": [
    "# 2) Representación como bolsa de palabras\n",
    "\n",
    "Elige justificadamente una representación de bolsa de palabras y aplícala.\n",
    "Muestra un ejemplo antes y después de aplicar la representación. Explica los cambios."
   ]
  },
  {
   "cell_type": "markdown",
   "metadata": {},
   "source": [
    "<div style=\"color: #a3c6ff; background-color: #212121; padding: 15px; border-radius: 8px;\">\n",
    "  Procedemos a normalizar los datos de la forma descrita anteriormente (<strong>lowercase</strong>, eliminando <strong>stopwords</strong> y con <strong>stemming</strong>) para después analizar qué representación de bolsa de palabras nos conviene más.<br><br>\n",
    "    <strong>NOTA</strong>: para que vaya la eliminación de stopwords hay que descargarse la primera vez las stopwords de nltk.\n",
    "</div>"
   ]
  },
  {
   "cell_type": "code",
   "execution_count": 37,
   "metadata": {},
   "outputs": [],
   "source": [
    "import re\n",
    "from spacy.lang.es.stop_words import STOP_WORDS\n",
    "from nltk.corpus import stopwords\n",
    "from nltk.stem import SnowballStemmer\n",
    "\n",
    "# Descargar (solo la primera vez)\n",
    "#import nltk\n",
    "#nltk.download('stopwords')\n",
    "\n",
    "# Definir stopwords y stemmer en inglés\n",
    "stop_en   = set(stopwords.words('english'))\n",
    "stemmer_en = SnowballStemmer('english')\n",
    "\n",
    "# Pre-compila el regex de tokenización (una o más letras de la \"a\" a la \"z\")\n",
    "token_pattern = re.compile(r'\\b[a-z]+\\b')"
   ]
  },
  {
   "cell_type": "code",
   "execution_count": 40,
   "metadata": {},
   "outputs": [],
   "source": [
    "# Función de normalización + stemming\n",
    "def normalize_and_stem(text: str) -> str:\n",
    "    # pasar a minúsculas\n",
    "    text = text.lower()\n",
    "    # quitar todo lo que no (^) sea letra (a-z) o espacio (|s)\n",
    "    text = re.sub(r'[^a-z\\s]', ' ', text)\n",
    "    # tokenizar, eliminar stopwords y aplicar stemmer\n",
    "    tokens = []\n",
    "    for tok in text.split():\n",
    "        if tok in stop_en:\n",
    "            continue\n",
    "        tokens.append(stemmer_en.stem(tok))\n",
    "    # reconstruir el texto normalizado\n",
    "    return \" \".join(tokens)"
   ]
  },
  {
   "cell_type": "markdown",
   "metadata": {},
   "source": [
    "<div style=\"color: #a3c6ff; background-color: #212121; padding: 15px; border-radius: 8px;\">\n",
    "    <strong>NOTA</strong>: la siguiente celda tarda varios minutos en ejecutar, ya que tiene que pasar por todas las palabras de todos los textos\n",
    "</div>"
   ]
  },
  {
   "cell_type": "code",
   "execution_count": 43,
   "metadata": {},
   "outputs": [],
   "source": [
    "# Aplicar a cada split\n",
    "for split in (train_df, val_df, test_df):\n",
    "    split['text_norm'] = split['text'].apply(normalize_and_stem)"
   ]
  },
  {
   "cell_type": "markdown",
   "metadata": {},
   "source": [
    "<div style=\"color: #a3c6ff; background-color: #212121; padding: 15px; border-radius: 8px;\">\n",
    "    Imprimimos un ejemplo de texto antes y después de la normalización.\n",
    "</div>"
   ]
  },
  {
   "cell_type": "code",
   "execution_count": 44,
   "metadata": {},
   "outputs": [
    {
     "name": "stdout",
     "output_type": "stream",
     "text": [
      "Train example — original: Donald Trump just couldn t wish all Americans a Happy New Year and leave it at that. Instead, he had to give a shout out to his enemies, haters and  the very dishonest fake news media.  The former reality show star had just one job to do and he couldn t do it. As our Country rapidly grows stronger and smarter, I want to wish all of my friends, supporters, enemies, haters, and even the very dishonest Fake News Media, a Happy and Healthy New Year,  President Angry Pants tweeted.  2018 will be a great year for America! As our Country rapidly grows stronger and smarter, I want to wish all of my friends, supporters, enemies, haters, and even the very dishonest Fake News Media, a Happy and Healthy New Year. 2018 will be a great year for America!  Donald J. Trump (@realDonaldTrump) December 31, 2017Trump s tweet went down about as welll as you d expect.What kind of president sends a New Year s greeting like this despicable, petty, infantile gibberish? Only Trump! His lack of decency won t even allow him to rise above the gutter long enough to wish the American citizens a happy new year!  Bishop Talbert Swan (@TalbertSwan) December 31, 2017no one likes you  Calvin (@calvinstowell) December 31, 2017Your impeachment would make 2018 a great year for America, but I ll also accept regaining control of Congress.  Miranda Yaver (@mirandayaver) December 31, 2017Do you hear yourself talk? When you have to include that many people that hate you you have to wonder? Why do the they all hate me?  Alan Sandoval (@AlanSandoval13) December 31, 2017Who uses the word Haters in a New Years wish??  Marlene (@marlene399) December 31, 2017You can t just say happy new year?  Koren pollitt (@Korencarpenter) December 31, 2017Here s Trump s New Year s Eve tweet from 2016.Happy New Year to all, including to my many enemies and those who have fought me and lost so badly they just don t know what to do. Love!  Donald J. Trump (@realDonaldTrump) December 31, 2016This is nothing new for Trump. He s been doing this for years.Trump has directed messages to his  enemies  and  haters  for New Year s, Easter, Thanksgiving, and the anniversary of 9/11. pic.twitter.com/4FPAe2KypA  Daniel Dale (@ddale8) December 31, 2017Trump s holiday tweets are clearly not presidential.How long did he work at Hallmark before becoming President?  Steven Goodine (@SGoodine) December 31, 2017He s always been like this . . . the only difference is that in the last few years, his filter has been breaking down.  Roy Schulze (@thbthttt) December 31, 2017Who, apart from a teenager uses the term haters?  Wendy (@WendyWhistles) December 31, 2017he s a fucking 5 year old  Who Knows (@rainyday80) December 31, 2017So, to all the people who voted for this a hole thinking he would change once he got into power, you were wrong! 70-year-old men don t change and now he s a year older.Photo by Andrew Burton/Getty Images.\n",
      "Train example — normalized: donald trump wish american happi new year leav instead give shout enemi hater dishonest fake news media former realiti show star one job countri rapid grow stronger smarter want wish friend support enemi hater even dishonest fake news media happi healthi new year presid angri pant tweet great year america countri rapid grow stronger smarter want wish friend support enemi hater even dishonest fake news media happi healthi new year great year america donald j trump realdonaldtrump decemb trump tweet went welll expect kind presid send new year greet like despic petti infantil gibberish trump lack decenc even allow rise gutter long enough wish american citizen happi new year bishop talbert swan talbertswan decemb one like calvin calvinstowel decemb impeach would make great year america also accept regain control congress miranda yaver mirandayav decemb hear talk includ mani peopl hate wonder hate alan sandov alansandov decemb use word hater new year wish marlen marlen decemb say happi new year koren pollitt korencarpent decemb trump new year eve tweet happi new year includ mani enemi fought lost bad know love donald j trump realdonaldtrump decemb noth new trump year trump direct messag enemi hater new year easter thanksgiv anniversari pic twitter com fpae kypa daniel dale ddale decemb trump holiday tweet clear presidenti long work hallmark becom presid steven goodin sgoodin decemb alway like differ last year filter break roy schulz thbthttt decemb apart teenag use term hater wendi wendywhistl decemb fuck year old know rainyday decemb peopl vote hole think would chang got power wrong year old men chang year older photo andrew burton getti imag\n"
     ]
    }
   ],
   "source": [
    "# Verificar una muestra\n",
    "print(\"Train example — original:\", train_df.loc[0, 'text'])\n",
    "print(\"Train example — normalized:\", train_df.loc[0, 'text_norm'])"
   ]
  },
  {
   "cell_type": "markdown",
   "metadata": {},
   "source": [
    "<div style=\"color: #a3c6ff; background-color: #212121; padding: 15px; border-radius: 8px;\">\n",
    "    Una vez ya normalizados, hemos elegido el método TF-IDF (Term Frequency–Inverse Document Frequency) por las ventajas que conlleva: >\n",
    "</div>"
   ]
  },
  {
   "cell_type": "code",
   "execution_count": 46,
   "metadata": {},
   "outputs": [
    {
     "name": "stderr",
     "output_type": "stream",
     "text": [
      "C:\\Users\\Miguel\\AppData\\Local\\Packages\\PythonSoftwareFoundation.Python.3.10_qbz5n2kfra8p0\\LocalCache\\local-packages\\Python310\\site-packages\\sklearn\\feature_extraction\\text.py:533: UserWarning: The parameter 'ngram_range' will not be used since 'analyzer' is callable'\n",
      "  warnings.warn(\n"
     ]
    },
    {
     "name": "stdout",
     "output_type": "stream",
     "text": [
      "Dimensiones TF–IDF: (26938, 20017) (8980, 20017) (8980, 20017)\n"
     ]
    }
   ],
   "source": [
    "from sklearn.feature_extraction.text import TfidfVectorizer\n",
    "\n",
    "# 1) Vectorizador TF–IDF sobre texto ya normalizado (text_norm)\n",
    "vectorizer = TfidfVectorizer(\n",
    "    analyzer=str.split,       # tokeniza dividiendo en espacios (ya tenemos stems)\n",
    "    ngram_range=(1,2),        # unigramas + bigramas\n",
    "    min_df=5,                 # descarta términos que aparecen en <5 docs de train\n",
    "    max_df=0.8,               # descarta términos que aparecen en >80% de docs de train\n",
    "    sublinear_tf=True         # aplica 1 + log(TF) en la parte TF\n",
    ")\n",
    "\n",
    "# 2) Ajustar SÓLO con train\n",
    "X_train = vectorizer.fit_transform(train_df['text_norm'])\n",
    "X_val   = vectorizer.transform(val_df['text_norm'])\n",
    "X_test  = vectorizer.transform(test_df['text_norm'])\n",
    "\n",
    "# 3) Ya tenéis X_train, X_val, X_test listos para entrenar cualquier modelo clásico\n",
    "print(\"Dimensiones TF–IDF:\", X_train.shape, X_val.shape, X_test.shape)"
   ]
  },
  {
   "cell_type": "code",
   "execution_count": 47,
   "metadata": {},
   "outputs": [
    {
     "name": "stdout",
     "output_type": "stream",
     "text": [
      "=== Texto normalizado (antes de BoW) ===\n",
      "donald trump wish american happi new year leav instead give shout enemi hater dishonest fake news media former realiti show star one job countri rapid grow stronger smarter want wish friend support enemi hater even dishonest fake news media happi healthi new year presid angri pant tweet great year america countri rapid grow stronger smarter want wish friend support enemi hater even dishonest fake news media happi healthi new year great year america donald j trump realdonaldtrump decemb trump tweet went welll expect kind presid send new year greet like despic petti infantil gibberish trump lack decenc even allow rise gutter long enough wish american citizen happi new year bishop talbert swan talbertswan decemb one like calvin calvinstowel decemb impeach would make great year america also accept regain control congress miranda yaver mirandayav decemb hear talk includ mani peopl hate wonder hate alan sandov alansandov decemb use word hater new year wish marlen marlen decemb say happi new year koren pollitt korencarpent decemb trump new year eve tweet happi new year includ mani enemi fought lost bad know love donald j trump realdonaldtrump decemb noth new trump year trump direct messag enemi hater new year easter thanksgiv anniversari pic twitter com fpae kypa daniel dale ddale decemb trump holiday tweet clear presidenti long work hallmark becom presid steven goodin sgoodin decemb alway like differ last year filter break roy schulz thbthttt decemb apart teenag use term hater wendi wendywhistl decemb fuck year old know rainyday decemb peopl vote hole think would chang got power wrong year old men chang year older photo andrew burton getti imag \n",
      "\n",
      "=== Representación TF–IDF (término:valor) ===\n",
      "new: 0.066\n",
      "york: 0.100\n",
      "reuter: 0.036\n",
      "republican: 0.057\n",
      "presidenti: 0.069\n",
      "front: 0.046\n",
      "runner: 0.060\n",
      "donald: 0.049\n",
      "trump: 0.086\n",
      "suffer: 0.053\n",
      "legal: 0.042\n",
      "setback: 0.075\n",
      "tuesday: 0.058\n",
      "state: 0.056\n",
      "court: 0.106\n",
      "allow: 0.061\n",
      "multimillion: 0.101\n",
      "dollar: 0.047\n",
      "fraud: 0.152\n",
      "claim: 0.108\n",
      "univers: 0.147\n",
      "file: 0.079\n",
      "attorney: 0.095\n",
      "general: 0.076\n",
      "proceed: 0.098\n",
      "part: 0.055\n",
      "lawsuit: 0.118\n",
      "accus: 0.039\n",
      "defunct: 0.089\n",
      "profit: 0.058\n",
      "ventur: 0.125\n",
      "mislead: 0.072\n",
      "thousand: 0.077\n",
      "peopl: 0.039\n",
      "paid: 0.051\n",
      "learn: 0.052\n",
      "billionair: 0.056\n",
      "businessman: 0.059\n",
      "real: 0.042\n",
      "estat: 0.057\n",
      "invest: 0.051\n",
      "strategi: 0.055\n",
      "chair: 0.057\n",
      "becom: 0.037\n",
      "target: 0.044\n",
      "rival: 0.051\n",
      "nomin: 0.047\n",
      "particular: 0.048\n",
      "marco: 0.064\n",
      "rubio: 0.153\n",
      "eric: 0.061\n",
      "schneiderman: 0.216\n",
      "seek: 0.071\n",
      "million: 0.034\n",
      "restitut: 0.100\n",
      "plus: 0.069\n",
      "penalti: 0.068\n",
      "cost: 0.046\n",
      "offic: 0.030\n",
      "said: 0.048\n",
      "rule: 0.062\n",
      "four: 0.041\n",
      "judg: 0.110\n",
      "panel: 0.055\n",
      "mid: 0.063\n",
      "level: 0.044\n",
      "appeal: 0.107\n",
      "manhattan: 0.119\n",
      "bring: 0.043\n",
      "case: 0.078\n",
      "closer: 0.061\n",
      "potenti: 0.045\n",
      "trial: 0.058\n",
      "could: 0.027\n",
      "make: 0.026\n",
      "easier: 0.066\n",
      "ultim: 0.056\n",
      "held: 0.042\n",
      "liabl: 0.158\n",
      "requir: 0.043\n",
      "proof: 0.061\n",
      "intent: 0.053\n",
      "defraud: 0.146\n",
      "also: 0.023\n",
      "extend: 0.058\n",
      "statut: 0.074\n",
      "limit: 0.080\n",
      "back: 0.029\n",
      "instead: 0.043\n",
      "want: 0.029\n",
      "program: 0.086\n",
      "stop: 0.038\n",
      "take: 0.028\n",
      "student: 0.122\n",
      "today: 0.040\n",
      "decis: 0.079\n",
      "clear: 0.035\n",
      "victori: 0.050\n",
      "effort: 0.037\n",
      "hold: 0.039\n",
      "account: 0.043\n",
      "statement: 0.032\n",
      "organ: 0.040\n",
      "counsel: 0.057\n",
      "alan: 0.080\n",
      "garten: 0.188\n",
      "would: 0.035\n",
      "call: 0.025\n",
      "polit: 0.030\n",
      "motiv: 0.059\n",
      "democrat: 0.029\n",
      "think: 0.032\n",
      "without: 0.037\n",
      "merit: 0.075\n",
      "baseless: 0.083\n",
      "nineti: 0.100\n",
      "eight: 0.052\n",
      "percent: 0.039\n",
      "particip: 0.054\n",
      "fill: 0.054\n",
      "written: 0.058\n",
      "survey: 0.063\n",
      "give: 0.036\n",
      "highest: 0.057\n",
      "grade: 0.074\n",
      "class: 0.052\n",
      "action: 0.038\n",
      "pend: 0.067\n",
      "california: 0.052\n",
      "similar: 0.049\n",
      "former: 0.030\n",
      "hammer: 0.070\n",
      "last: 0.026\n",
      "week: 0.029\n",
      "debat: 0.079\n",
      "point: 0.035\n",
      "ralli: 0.048\n",
      "minneapoli: 0.084\n",
      "u: 0.024\n",
      "senat: 0.034\n",
      "florida: 0.051\n",
      "prospect: 0.061\n",
      "increas: 0.041\n",
      "borrow: 0.074\n",
      "credit: 0.054\n",
      "card: 0.062\n",
      "order: 0.037\n",
      "pay: 0.042\n",
      "cours: 0.043\n",
      "graduat: 0.067\n",
      "end: 0.034\n",
      "thing: 0.034\n",
      "got: 0.041\n",
      "piec: 0.056\n",
      "paper: 0.058\n",
      "worthless: 0.092\n",
      "pictur: 0.054\n",
      "cardboard: 0.102\n",
      "cutout: 0.117\n",
      "outrag: 0.056\n",
      "american: 0.028\n",
      "told: 0.026\n",
      "involv: 0.068\n",
      "reviv: 0.068\n",
      "second: 0.042\n",
      "lower: 0.087\n",
      "type: 0.058\n",
      "known: 0.041\n",
      "common: 0.051\n",
      "law: 0.054\n",
      "difficult: 0.053\n",
      "prove: 0.051\n",
      "alreadi: 0.039\n",
      "determin: 0.050\n",
      "oper: 0.071\n",
      "illeg: 0.044\n",
      "unlicens: 0.110\n",
      "educ: 0.108\n",
      "institut: 0.049\n",
      "notifi: 0.123\n",
      "violat: 0.047\n",
      "use: 0.029\n",
      "word: 0.042\n",
      "actual: 0.040\n",
      "charter: 0.077\n",
      "one: 0.022\n",
      "chang: 0.035\n",
      "name: 0.039\n",
      "entrepreneur: 0.083\n",
      "initi: 0.047\n",
      "later: 0.040\n",
      "year: 0.023\n",
      "depart: 0.037\n",
      "ceas: 0.078\n",
      "report: 0.026\n",
      "karen: 0.081\n",
      "edit: 0.063\n",
      "jonathan: 0.075\n",
      "oati: 0.100\n",
      "alexia: 0.117\n",
      "articl: 0.052\n",
      "fund: 0.040\n",
      "sap: 0.122\n",
      "independ: 0.043\n",
      "creat: 0.041\n",
      "editori: 0.111\n",
      "staff: 0.046\n",
      "creation: 0.064\n",
      "product: 0.051\n"
     ]
    }
   ],
   "source": [
    "# Elige un índice de ejemplo en train\n",
    "idx = 0\n",
    "original = train_df.loc[idx, 'text_norm']\n",
    "vector  = X_train[idx]\n",
    "\n",
    "print(\"=== Texto normalizado (antes de BoW) ===\")\n",
    "print(original, \"\\n\")\n",
    "\n",
    "print(\"=== Representación TF–IDF (término:valor) ===\")\n",
    "feat_names = vectorizer.get_feature_names_out()\n",
    "for term_idx, val in zip(vector.indices, vector.data):\n",
    "    print(f\"{feat_names[term_idx]}: {val:.3f}\")"
   ]
  },
  {
   "cell_type": "markdown",
   "metadata": {
    "id": "AHAawx3OHoiI"
   },
   "source": [
    "# 3) Aplica 3 algoritmos de aprendizaje automático para resolver la tarea\n",
    "\n",
    "Justifica porqué los has elegido.\n",
    "Ajusta los modelos respecto a un hiperparámetro que consideres oportuno. Justifica tu elección.\n",
    "Explica los resultados obtenidos."
   ]
  },
  {
   "cell_type": "code",
   "execution_count": 11,
   "metadata": {
    "id": "lkKqpU0aQRzH"
   },
   "outputs": [
    {
     "name": "stdout",
     "output_type": "stream",
     "text": [
      "\n",
      "===== Naive Bayes =====\n",
      "Accuracy: 0.9318\n",
      "              precision    recall  f1-score   support\n",
      "\n",
      "        fake       0.93      0.94      0.94      4696\n",
      "        true       0.93      0.92      0.93      4284\n",
      "\n",
      "    accuracy                           0.93      8980\n",
      "   macro avg       0.93      0.93      0.93      8980\n",
      "weighted avg       0.93      0.93      0.93      8980\n",
      "\n",
      "\n",
      "===== SVM =====\n",
      "Accuracy: 0.9911\n",
      "              precision    recall  f1-score   support\n",
      "\n",
      "        fake       0.99      0.99      0.99      4696\n",
      "        true       0.99      0.99      0.99      4284\n",
      "\n",
      "    accuracy                           0.99      8980\n",
      "   macro avg       0.99      0.99      0.99      8980\n",
      "weighted avg       0.99      0.99      0.99      8980\n",
      "\n",
      "\n",
      "===== Random Forest =====\n",
      "Accuracy: 0.9957\n",
      "              precision    recall  f1-score   support\n",
      "\n",
      "        fake       1.00      1.00      1.00      4696\n",
      "        true       1.00      0.99      1.00      4284\n",
      "\n",
      "    accuracy                           1.00      8980\n",
      "   macro avg       1.00      1.00      1.00      8980\n",
      "weighted avg       1.00      1.00      1.00      8980\n",
      "\n"
     ]
    }
   ],
   "source": [
    "from sklearn.feature_extraction.text import TfidfVectorizer\n",
    "from sklearn.naive_bayes import MultinomialNB\n",
    "from sklearn.svm import SVC\n",
    "from sklearn.ensemble import RandomForestClassifier\n",
    "from sklearn.metrics import classification_report, accuracy_score\n",
    "\n",
    "# 1. TF-IDF vectorización\n",
    "vectorizer = TfidfVectorizer(min_df=5, max_df=0.8, ngram_range=(1,1))\n",
    "X_train = vectorizer.fit_transform(train_df['text_norm'])\n",
    "X_val   = vectorizer.transform(val_df['text_norm'])\n",
    "\n",
    "y_train = train_df['label']\n",
    "y_val   = val_df['label']\n",
    "\n",
    "# 2. Definir modelos\n",
    "models = {\n",
    "    'Naive Bayes': MultinomialNB(alpha=1.0),\n",
    "    'SVM': SVC(kernel='linear', C=1.0),\n",
    "    'Random Forest': RandomForestClassifier(n_estimators=100, random_state=42)\n",
    "}\n",
    "\n",
    "# 3. Entrenar y evaluar en validación\n",
    "for name, model in models.items():\n",
    "    print(f\"\\n===== {name} =====\")\n",
    "    model.fit(X_train, y_train)\n",
    "    preds = model.predict(X_val)\n",
    "    print(f\"Accuracy: {accuracy_score(y_val, preds):.4f}\")\n",
    "    print(classification_report(y_val, preds, target_names=['fake', 'true']))\n"
   ]
  },
  {
   "cell_type": "markdown",
   "metadata": {
    "id": "5GOs89bUHoiI"
   },
   "source": [
    "# 4) Construye redes neuronales con Keras con distintas maneras de usar word embeddings\n",
    "\n",
    "Justifica tus decisiones y explica los resultados obtenidos."
   ]
  },
  {
   "cell_type": "code",
   "execution_count": null,
   "metadata": {
    "id": "h1kY-cuFQSoZ"
   },
   "outputs": [],
   "source": [
    "import pandas as pd\n",
    "import numpy as np\n",
    "from gensim.models.word2vec import Word2Vec\n",
    "from tensorflow.keras.preprocessing.text import Tokenizer\n",
    "from tensorflow.keras.preprocessing.sequence import pad_sequences\n",
    "\n",
    "# Suponiendo que ya tienes train_df con 'text_norm' y 'label'\n",
    "sentences = [text.split() for text in train_df['text_norm']]\n",
    "\n",
    "# Parámetros\n",
    "MAX_WORDS = 5000\n",
    "MAX_LEN = 100\n",
    "EMBEDDING_DIM = 100"
   ]
  },
  {
   "cell_type": "code",
   "execution_count": null,
   "metadata": {},
   "outputs": [],
   "source": [
    "# Entrenar modelo Word2Vec (similar a GloVe en propósito)\n",
    "w2v_model = Word2Vec(\n",
    "    sentences=sentences,\n",
    "    vector_size=EMBEDDING_DIM,\n",
    "    window=5,\n",
    "    min_count=1,\n",
    "    workers=4,\n",
    "    sg=1  # 1 para Skip-Gram, 0 para CBOW\n",
    ")\n",
    "\n",
    "# Guardar modelo para reutilizar\n",
    "w2v_model.save(\"word2vec.model\")"
   ]
  },
  {
   "cell_type": "code",
   "execution_count": null,
   "metadata": {},
   "outputs": [],
   "source": [
    "from gensim.models import FastText\n",
    "\n",
    "# Entrenar modelo FastText\n",
    "fasttext_model = FastText(\n",
    "    sentences=sentences,\n",
    "    vector_size=EMBEDDING_DIM,\n",
    "    window=5,\n",
    "    min_count=1,\n",
    "    workers=4,\n",
    "    sg=1  # 1 para Skip-Gram, 0 para CBOW\n",
    ")\n",
    "\n",
    "# Guardar modelo\n",
    "fasttext_model.save(\"fasttext.model\")"
   ]
  },
  {
   "cell_type": "code",
   "execution_count": null,
   "metadata": {},
   "outputs": [],
   "source": [
    "# Matriz de embeddings \n",
    "def create_embedding_matrix(tokenizer, model, embedding_dim):\n",
    "    vocab_size = len(tokenizer.word_index) + 1\n",
    "    embedding_matrix = np.zeros((vocab_size, embedding_dim))\n",
    "\n",
    "    for word, i in tokenizer.word_index.items():\n",
    "        if i < vocab_size:\n",
    "            try:\n",
    "                embedding_vector = model.wv[word]\n",
    "                if embedding_vector is not None:\n",
    "                    embedding_matrix[i] = embedding_vector\n",
    "            except KeyError:\n",
    "                pass  # Palabra no encontrada en el vocabulario del modelo\n",
    "    return embedding_matrix"
   ]
  },
  {
   "cell_type": "code",
   "execution_count": null,
   "metadata": {},
   "outputs": [],
   "source": [
    "tokenizer = Tokenizer(num_words=MAX_WORDS, oov_token=\"<OOV>\")\n",
    "tokenizer.fit_on_texts(train_df['text_norm'])\n",
    "\n",
    "X_train_seq = tokenizer.texts_to_sequences(train_df['text_norm'])\n",
    "X_val_seq = tokenizer.texts_to_sequences(val_df['text_norm'])\n",
    "X_test_seq = tokenizer.texts_to_sequences(test_df['text_norm'])\n",
    "\n",
    "X_train_pad = pad_sequences(X_train_seq, maxlen=MAX_LEN, padding='post', truncating='post')\n",
    "X_val_pad = pad_sequences(X_val_seq, maxlen=MAX_LEN, padding='post', truncating='post')\n",
    "X_test_pad = pad_sequences(X_test_seq, maxlen=MAX_LEN, padding='post', truncating='post')\n",
    "\n",
    "# Etiquetas\n",
    "y_train_keras = train_df['label'].map({'fake': 0, 'true': 1}).values\n",
    "y_val_keras = val_df['label'].map({'fake': 0, 'true': 1}).values\n",
    "y_test_keras = test_df['label'].map({'fake': 0, 'true': 1}).values"
   ]
  },
  {
   "cell_type": "code",
   "execution_count": null,
   "metadata": {},
   "outputs": [],
   "source": [
    "from tensorflow.keras.models import Sequential\n",
    "from tensorflow.keras.layers import Embedding, GlobalAveragePooling1D, Dense\n",
    "\n",
    "# Cargar modelo Word2Vec\n",
    "w2v_model = Word2Vec.load(\"word2vec.model\")\n",
    "embedding_matrix_w2v = create_embedding_matrix(tokenizer, w2v_model, EMBEDDING_DIM)\n",
    "\n",
    "# Modelo\n",
    "model_w2v = Sequential([\n",
    "    Embedding(input_dim=len(tokenizer.word_index) + 1,\n",
    "              output_dim=EMBEDDING_DIM,\n",
    "              weights=[embedding_matrix_w2v],\n",
    "              trainable=True),\n",
    "    GlobalAveragePooling1D(),\n",
    "    Dense(16, activation='relu'),\n",
    "    Dense(1, activation='sigmoid')\n",
    "])\n",
    "\n",
    "model_w2v.compile(optimizer='adam', loss='binary_crossentropy', metrics=['accuracy'])\n",
    "model_w2v.summary()\n",
    "\n",
    "# Entrenar\n",
    "history_w2v = model_w2v.fit(\n",
    "    X_train_pad, y_train_keras,\n",
    "    validation_data=(X_val_pad, y_val_keras),\n",
    "    epochs=5,\n",
    "    batch_size=32\n",
    ")"
   ]
  },
  {
   "cell_type": "code",
   "execution_count": 45,
   "metadata": {},
   "outputs": [
    {
     "ename": "NameError",
     "evalue": "name 'FastText' is not defined",
     "output_type": "error",
     "traceback": [
      "\u001b[1;31m---------------------------------------------------------------------------\u001b[0m",
      "\u001b[1;31mNameError\u001b[0m                                 Traceback (most recent call last)",
      "Cell \u001b[1;32mIn[45], line 2\u001b[0m\n\u001b[0;32m      1\u001b[0m \u001b[38;5;66;03m# Cargar modelo FastText\u001b[39;00m\n\u001b[1;32m----> 2\u001b[0m ft_model \u001b[38;5;241m=\u001b[39m \u001b[43mFastText\u001b[49m\u001b[38;5;241m.\u001b[39mload(\u001b[38;5;124m\"\u001b[39m\u001b[38;5;124mfasttext.model\u001b[39m\u001b[38;5;124m\"\u001b[39m)\n\u001b[0;32m      3\u001b[0m embedding_matrix_ft \u001b[38;5;241m=\u001b[39m create_embedding_matrix(tokenizer, ft_model, EMBEDDING_DIM)\n\u001b[0;32m      5\u001b[0m \u001b[38;5;66;03m# Modelo\u001b[39;00m\n",
      "\u001b[1;31mNameError\u001b[0m: name 'FastText' is not defined"
     ]
    }
   ],
   "source": [
    "# Cargar modelo FastText\n",
    "ft_model = FastText.load(\"fasttext.model\")\n",
    "embedding_matrix_ft = create_embedding_matrix(tokenizer, ft_model, EMBEDDING_DIM)\n",
    "\n",
    "# Modelo\n",
    "model_ft = Sequential([\n",
    "    Embedding(input_dim=len(tokenizer.word_index) + 1,\n",
    "              output_dim=EMBEDDING_DIM,\n",
    "              weights=[embedding_matrix_ft],\n",
    "              trainable=True),\n",
    "    GlobalAveragePooling1D(),\n",
    "    Dense(16, activation='relu'),\n",
    "    Dense(1, activation='sigmoid')\n",
    "])\n",
    "\n",
    "model_ft.compile(optimizer='adam', loss='binary_crossentropy', metrics=['accuracy'])\n",
    "model_ft.summary()\n",
    "\n",
    "# Entrenar\n",
    "history_ft = model_ft.fit(\n",
    "    X_train_pad, y_train_keras,\n",
    "    validation_data=(X_val_pad, y_val_keras),\n",
    "    epochs=5,\n",
    "    batch_size=32\n",
    ")"
   ]
  },
  {
   "cell_type": "markdown",
   "metadata": {
    "id": "LFoiJYlCHoiJ"
   },
   "source": [
    "# 5) Aplica los modelos construidos a los datos de test y compáralos.\n",
    "\n",
    "Calcula las métricas de recall, precisión y f1.\n",
    "Discute cual es el mejor modelo y cual es peor y porqué."
   ]
  },
  {
   "cell_type": "code",
   "execution_count": null,
   "metadata": {
    "id": "AOejdgQSQUKA"
   },
   "outputs": [],
   "source": [
    "from sklearn.metrics import accuracy_score, classification_report\n",
    "\n",
    "def evaluate_model(model, name, X_test, y_test):\n",
    "    preds = (model.predict(X_test) > 0.5).astype(\"int32\")\n",
    "    acc = accuracy_score(y_test, preds)\n",
    "    print(f\"\\n{name} - Test Accuracy: {acc:.4f}\")\n",
    "    print(classification_report(y_test, preds, target_names=['fake', 'true']))\n",
    "\n",
    "evaluate_model(model_w2v, \"Word2Vec (GloVe-like)\", X_test_pad, y_test_keras)\n",
    "evaluate_model(model_ft, \"FastText\", X_test_pad, y_test_keras)"
   ]
  }
 ],
 "metadata": {
  "colab": {
   "provenance": []
  },
  "kernelspec": {
   "display_name": "Python 3 (ipykernel)",
   "language": "python",
   "name": "python3"
  },
  "language_info": {
   "codemirror_mode": {
    "name": "ipython",
    "version": 3
   },
   "file_extension": ".py",
   "mimetype": "text/x-python",
   "name": "python",
   "nbconvert_exporter": "python",
   "pygments_lexer": "ipython3",
   "version": "3.10.11"
  }
 },
 "nbformat": 4,
 "nbformat_minor": 4
}
