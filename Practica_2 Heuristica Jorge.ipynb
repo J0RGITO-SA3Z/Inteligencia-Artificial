{
 "cells": [
  {
   "cell_type": "code",
   "execution_count": 1,
   "id": "6d8c2291-334a-4575-a5c7-0718ebc042da",
   "metadata": {},
   "outputs": [],
   "source": [
    "import copy\n",
    "\n",
    "import re\n",
    "\n",
    "from search import *"
   ]
  },
  {
   "cell_type": "code",
   "execution_count": 3,
   "id": "057e6d0a-353a-4156-883c-97e2e11a931f",
   "metadata": {
    "scrolled": true
   },
   "outputs": [],
   "source": [
    "class Movix(Problem):\n",
    "    N = 0\n",
    "    Y = 0\n",
    "    muros = []\n",
    "\n",
    "    def __init__(self, N, Y, initial, goal=None, muros = []):\n",
    "        '''Inicializacion de nuestro problema.'''\n",
    "        Problem.__init__(self, initial, goal)\n",
    "        self.N = N\n",
    "        self.Y = Y\n",
    "        self._actions = []\n",
    "        self.muros = muros\n",
    "\n",
    "        for i in range(1, N):\n",
    "            self._actions.append(('V', (0, i)))\n",
    "            self._actions.append(('V', (0, -i)))\n",
    "\n",
    "        for i in range(1, N):\n",
    "            self._actions.append(('H', (i, 0)))\n",
    "            self._actions.append(('H', (-i, 0)))\n",
    "\n",
    "        for i in range(-1, 2):\n",
    "            for j in range(-1, 2):\n",
    "                if i != 0 or j != 0:\n",
    "                    self._actions.append(('L', (i, j)))\n",
    "                    if i == 0 or j == 0:\n",
    "                        self._actions.append(('S', (2 * i, 2 * j)))\n",
    "\n",
    "    def mostrarAcciones(self):\n",
    "        print(self._actions)\n",
    "\n",
    "    def actions(self, s):\n",
    "        actions_list = []\n",
    "        for a in self._actions:\n",
    "            for pos in s[0][a[0]]:\n",
    "                if self._is_valid(a, pos, s):\n",
    "                #if self.esValido(a, pos, s):\n",
    "                    actions_list.append(\"Mover ficha {} de ({},{}) a ({},{})\".format(a[0], pos[0], pos[1], (pos[0] + a[1][0]), (pos[1] + a[1][1])))\n",
    "\n",
    "        return actions_list\n",
    "\n",
    "    #Nuevo is_valid con la condicion adicional de los muros\n",
    "    def _is_valid(self, a, pos, s):\n",
    "        fila, columna = (pos[0] + a[1][0], pos[1] + a[1][1])\n",
    "        #Compruebo que la posicion este dentro de las dimensiones del tablero, que no hay ninguna ficha\n",
    "        #en dicha posicion y que tampoco haya ningun muro\n",
    "        if (fila < self.N and fila >= 0 and columna < self.N and columna >= 0 and \n",
    "            (fila not in s[1] or columna not in s[1][fila]) and self.muros.count((fila, columna)) == 0):\n",
    "            match a[0]:\n",
    "                case 'V':\n",
    "                    return not(fila in s[1] and (any(pos[1] < y < columna for y in s[1][fila]) or any(columna < y < pos[1] for y in s[1][fila])))\n",
    "                case 'H':\n",
    "                    return not(columna in s[2] and (any(pos[0] < x < fila for x in s[2][columna]) or any(fila < x < pos[0] for x in s[2][columna])))\n",
    "                case 'S':\n",
    "                    #Como la ficha S no puede saltar muros compruebo adicionalmente que no haya un muro en la casilla adyacente a S\n",
    "                    return not(not (pos[0] + a[1][0]/2 in s[1] and (pos[1] + a[1][1]/2) in s[1][pos[0] + a[1][0]/2])) and self.muros.count((pos[0] + a[1][0]/2, pos[1] + a[1][1]/2)) == 0\n",
    "                case 'L':\n",
    "                    return True\n",
    "        else:\n",
    "            return False\n",
    "        \n",
    "    #Antiguo is_valid\n",
    "    def esValido(self, a, pos, s):\n",
    "        fil, col = (pos[0] + a[1][0], pos[1] + a[1][1])\n",
    "         # Verificamos si la ficha está dentro de los límites del tablero\n",
    "        if fil >= self.N or fil < 0 or col >= self.N or col < 0:\n",
    "            return False  # Si alguna ficha está fuera de los límites, el estado no es válido\n",
    "        if fil in s[1] and col in s[1][fil]:\n",
    "            return False\n",
    "        if a[0] == 'V' and fil in s[1] and (any(pos[1] < y < col for y in s[1][fil]) or any(col < y < pos[1] for y in s[1][fil])):\n",
    "            return False\n",
    "        if a[0] == 'H' and col in s[2] and (any(pos[0] < x < fil for x in s[2][col]) or any(fil < x < pos[0] for x in s[2][col])):\n",
    "            return False\n",
    "        if a[0] == 'S' and not (pos[0] + a[1][0]/2 in s[1] and (pos[1] + a[1][1]/2) in s[1][pos[0] + a[1][0]/2]):\n",
    "            return False\n",
    "        return True       # Si todas las fichas están dentro de los límites, y cumplen las propiedades el estado es válido\n",
    "\n",
    "    def result(self, s, action):\n",
    "        patron = r\"Mover ficha (\\w) de \\((\\d+),(\\d+)\\) a \\((\\d+),(\\d+)\\)\"\n",
    "        # Buscar los valores\n",
    "        resultado = re.findall(patron, action)\n",
    "\n",
    "        if resultado:\n",
    "            ficha, x1, y1, x2, y2 = resultado[0]\n",
    "            x1, y1 = int(x1), int(y1)\n",
    "            x2, y2 = int(x2), int(y2)\n",
    "\n",
    "            new_s = copy.deepcopy(s)\n",
    "\n",
    "            new_s[0][ficha].remove((x1, y1))\n",
    "            #no deberia hacer falta comprobar con estos ifs \n",
    "            if y1 in new_s[2] and x1 in new_s[2][y1]:\n",
    "                new_s[2][y1].pop(x1)\n",
    "            if x1 in new_s[1] and y1 in new_s[1][x1]:\n",
    "                new_s[1][x1].pop(y1)\n",
    "\n",
    "            \n",
    "            if x1 in new_s[1] and len(new_s[1][x1]) == 0:\n",
    "                del new_s[1][x1]\n",
    "            if y1 in new_s[2] and len(new_s[2][y1]) == 0:\n",
    "                del new_s[2][y1]\n",
    "\n",
    "            \n",
    "            if x2 not in new_s[1]:\n",
    "                new_s[1][x2] = {}\n",
    "\n",
    "            if y2 not in new_s[2]:\n",
    "                new_s[2][y2] = {}\n",
    "\n",
    "            new_s[0][ficha].append((x2, y2))\n",
    "            new_s[1][x2][y2] = ficha\n",
    "            new_s[2][y2][x2] = ficha\n",
    "\n",
    "            #nos aseguramos q todo este ordenado\n",
    "            \n",
    "            #return new_s\n",
    "            return (new_s[0], \n",
    "                    {k: new_s[1][k] for k in sorted(new_s[1].keys())},\n",
    "                    {k: new_s[2][k] for k in sorted(new_s[2].keys())})\n",
    "        else:\n",
    "            return None\n",
    "\n",
    "    def goal_test(self, s):\n",
    "        #linea = (len(s[1]) == 1 and max(s[2].keys()) - min(s[2].keys()) == self.Y*4 - 1) or (len(s[2]) == 1 and max(s[1].keys()) - min(s[1].keys()) == self.Y*4 - 1)\n",
    "        linea = len(s[1]) == 1 or len(s[2]) == 1\n",
    "\n",
    "        diagonal = True\n",
    "        #if len(s[1]) > 0 and len(s[1][min(s[1])]) > 0:\n",
    "        clave_minima = min(s[1])\n",
    "        diferencia = clave_minima - min(s[1][clave_minima])\n",
    "        for i in s[1]:\n",
    "            if(len(s[1][i]) > 1):\n",
    "                diagonal = False\n",
    "                break\n",
    "            elif(i - min(s[1][i]) != diferencia):\n",
    "                diagonal = False\n",
    "                break\n",
    "\n",
    "        return linea or diagonal\n",
    "\n",
    "        "
   ]
  },
  {
   "cell_type": "code",
   "execution_count": 7,
   "id": "9c666593-dcf6-477a-875d-0eae1322026b",
   "metadata": {},
   "outputs": [
    {
     "name": "stdin",
     "output_type": "stream",
     "text": [
      "Introduzca el numero de casillas que tendra el tablero:  6\n",
      "Introduzca el numero de fichas que habra en el tablero:  1\n",
      "Cuantos muros desea que haya en el tablero:  0\n"
     ]
    },
    {
     "data": {
      "text/plain": [
       "({'S': [(2, 1)], 'H': [(1, 2)], 'V': [(5, 0)], 'L': [(4, 0)]},\n",
       " {2: {1: 'S'}, 1: {2: 'H'}, 5: {0: 'V'}, 4: {0: 'L'}},\n",
       " {1: {2: 'S'}, 2: {1: 'H'}, 0: {5: 'V', 4: 'L'}})"
      ]
     },
     "execution_count": 7,
     "metadata": {},
     "output_type": "execute_result"
    }
   ],
   "source": [
    "N = int(input(\"Introduzca el numero de casillas que tendra el tablero: \"))\n",
    "Y = int(input(\"Introduzca el numero de fichas que habra en el tablero: \"))\n",
    "M = int(input(\"Cuantos muros desea que haya en el tablero: \"))\n",
    "\n",
    "while(Y > N):\n",
    "    print(\"El numero de fichas no puede ser mayor a las dimensiones del tablero\")\n",
    "    N = int(input(\"Introduzca el numero de casillas que tendra el tablero: \"))\n",
    "    Y = int(input(\"Introduzca el numero de fichas que habra en el tablero\"))\n",
    "\n",
    "#Lista de posiciones para asegurar que no se repita ninguna posicion\n",
    "posiciones = []\n",
    "\n",
    "#Lista que almacena las posiciones de los muros\n",
    "muros = []\n",
    "\n",
    "#Diccionario que relaciona el tipo de ficha con la lista de las distintas posiciones donde estan\n",
    "fichasPos = {'S' : [], 'H' : [], 'V' : [], 'L' : []}\n",
    "\n",
    "for ficha in fichasPos:\n",
    "    for i in range (0, Y):\n",
    "        pos = (random.randrange(0, N), random.randrange(0, N))\n",
    "        while(posiciones.count(pos) > 0):\n",
    "            pos = (random.randrange(0, N), random.randrange(0, N))\n",
    "\n",
    "        fichasPos[ficha].append(pos)\n",
    "\n",
    "for m in range(0, M):\n",
    "    muro = (random.randrange(0, N), random.randrange(0, N))\n",
    "    while(posiciones.count(muro) > 0 or muros.count(muro) > 0):\n",
    "        muro = (random.randrange(0, N), random.randrange(0, N))\n",
    "\n",
    "    muros.append(muro)\n",
    "\n",
    "#Diccionario que guarda todas las fichas que estan en una fila con la columna en la que esta y el tipo de ficha que es\n",
    "xToFicha = {}\n",
    "#Diccionario que guarda todas las fichas que estan en una columna con la fila en la que esta y el tipo de ficha que es\n",
    "yToFicha = {}\n",
    "\n",
    "for ficha, posiciones in fichasPos.items():\n",
    "    for pos in posiciones:\n",
    "        if pos[0] not in xToFicha:  xToFicha[pos[0]] = {pos[1] : ficha}\n",
    "        else: xToFicha[pos[0]] = xToFicha[pos[0]] | {pos[1] : ficha}\n",
    "\n",
    "        if pos[1] not in yToFicha:  yToFicha[pos[1]] = {pos[0] : ficha}\n",
    "        else: yToFicha[pos[1]] = yToFicha[pos[1]] | {pos[0] : ficha}\n",
    "\n",
    "#Inicializo la tupla con los tres diccionarios para almacenar el estado\n",
    "estado = (fichasPos, xToFicha, yToFicha)\n",
    "estado"
   ]
  },
  {
   "cell_type": "code",
   "execution_count": 9,
   "id": "d1a5b010-55b8-432b-83c1-79a58ad2d5b8",
   "metadata": {},
   "outputs": [],
   "source": [
    "def h_1(node):\n",
    "    s = node.state\n",
    "\n",
    "    # Calculamos el número de fichas restantes para hacer una fila en X e Y\n",
    "    left_x = Y * 4 - len(s[1]) if s[1] else Y * 4\n",
    "    left_y = Y * 4 - len(s[2]) if s[2] else Y * 4\n",
    "    left_diag = 0\n",
    "\n",
    "    # Calculamos el número de fichas restantes para hacer una diagonal\n",
    "    if s[1]:  # Verificar que s[1] no esté vacío\n",
    "        clave_minima = min(s[1].keys())\n",
    "        diferencia = clave_minima - min(s[1][clave_minima]) if s[1][clave_minima] else 0\n",
    "        for i in s[1]:\n",
    "            if s[1][i] and (i - min(s[1][i]) != diferencia):  # Verifica que s[1][i] no esté vacío\n",
    "                left_diag += 1\n",
    "\n",
    "    return min(left_x, left_y, left_diag)\n",
    "        "
   ]
  },
  {
   "cell_type": "code",
   "execution_count": 11,
   "id": "bda43370-da01-4cfb-bd8b-e22e2adec074",
   "metadata": {},
   "outputs": [
    {
     "data": {
      "text/plain": [
       "['Mover ficha V de (0,3) a (0,4)',\n",
       " 'Mover ficha V de (0,3) a (0,2)',\n",
       " 'Mover ficha V de (0,3) a (0,5)',\n",
       " 'Mover ficha V de (0,3) a (0,1)',\n",
       " 'Mover ficha V de (0,3) a (0,0)',\n",
       " 'Mover ficha H de (3,1) a (4,1)',\n",
       " 'Mover ficha H de (3,1) a (2,1)',\n",
       " 'Mover ficha H de (3,1) a (5,1)',\n",
       " 'Mover ficha L de (2,2) a (1,2)',\n",
       " 'Mover ficha L de (2,2) a (1,3)',\n",
       " 'Mover ficha L de (2,2) a (2,1)',\n",
       " 'Mover ficha L de (2,2) a (2,3)',\n",
       " 'Mover ficha L de (2,2) a (3,2)',\n",
       " 'Mover ficha L de (2,2) a (3,3)']"
      ]
     },
     "execution_count": 11,
     "metadata": {},
     "output_type": "execute_result"
    }
   ],
   "source": [
    "s = (\n",
    "    {'S': [(1, 1)], 'H': [(3, 1)], 'L': [(2, 2)], 'V': [(0, 3)]},\n",
    "    {0: {3: 'V'}, 1: {1: 'S'}, 2: {2: 'L'}, 3: {1: 'H'}},\n",
    "    {1: {1: 'S', 3: 'H'}, 2: {2: 'L'}, 3: {0: 'V'}}\n",
    "    )\n",
    "\n",
    "p = Movix(N, Y, s, muros)\n",
    "\n",
    "\n",
    "p.actions(p.initial)"
   ]
  },
  {
   "cell_type": "code",
   "execution_count": 13,
   "id": "aa75f9bc-5e5e-49c0-8d01-570ddd2aeb0a",
   "metadata": {},
   "outputs": [
    {
     "name": "stdout",
     "output_type": "stream",
     "text": [
      "CPU times: total: 15.6 ms\n",
      "Wall time: 32 ms\n"
     ]
    },
    {
     "data": {
      "text/plain": [
       "['Mover ficha V de (0,3) a (0,1)', 'Mover ficha L de (2,2) a (2,1)']"
      ]
     },
     "execution_count": 13,
     "metadata": {},
     "output_type": "execute_result"
    }
   ],
   "source": [
    "%%time\n",
    "breadth_first_tree_search(p).solution()"
   ]
  },
  {
   "cell_type": "code",
   "execution_count": 15,
   "id": "601be06f-70cd-40c0-a27b-1e58a3a45109",
   "metadata": {},
   "outputs": [
    {
     "ename": "TypeError",
     "evalue": "unhashable type: 'dict'",
     "output_type": "error",
     "traceback": [
      "\u001b[1;31m---------------------------------------------------------------------------\u001b[0m",
      "\u001b[1;31mTypeError\u001b[0m                                 Traceback (most recent call last)",
      "File \u001b[1;32m<timed eval>:1\u001b[0m\n",
      "File \u001b[1;32m~\\search.py:420\u001b[0m, in \u001b[0;36mastar_search\u001b[1;34m(problem, h, display)\u001b[0m\n\u001b[0;32m    416\u001b[0m \u001b[38;5;250m\u001b[39m\u001b[38;5;124;03m\"\"\"A* search is best-first graph search with f(n) = g(n)+h(n).\u001b[39;00m\n\u001b[0;32m    417\u001b[0m \u001b[38;5;124;03mYou need to specify the h function when you call astar_search, or\u001b[39;00m\n\u001b[0;32m    418\u001b[0m \u001b[38;5;124;03melse in your Problem subclass.\"\"\"\u001b[39;00m\n\u001b[0;32m    419\u001b[0m h \u001b[38;5;241m=\u001b[39m memoize(h \u001b[38;5;129;01mor\u001b[39;00m problem\u001b[38;5;241m.\u001b[39mh, \u001b[38;5;124m'\u001b[39m\u001b[38;5;124mh\u001b[39m\u001b[38;5;124m'\u001b[39m)\n\u001b[1;32m--> 420\u001b[0m \u001b[38;5;28;01mreturn\u001b[39;00m best_first_graph_search(problem, \u001b[38;5;28;01mlambda\u001b[39;00m n: n\u001b[38;5;241m.\u001b[39mpath_cost \u001b[38;5;241m+\u001b[39m h(n), display)\n",
      "File \u001b[1;32m~\\search.py:279\u001b[0m, in \u001b[0;36mbest_first_graph_search\u001b[1;34m(problem, f, display)\u001b[0m\n\u001b[0;32m    277\u001b[0m         \u001b[38;5;28mprint\u001b[39m(\u001b[38;5;28mlen\u001b[39m(explored), \u001b[38;5;124m\"\u001b[39m\u001b[38;5;124mpaths have been expanded and\u001b[39m\u001b[38;5;124m\"\u001b[39m, \u001b[38;5;28mlen\u001b[39m(frontier), \u001b[38;5;124m\"\u001b[39m\u001b[38;5;124mpaths remain in the frontier\u001b[39m\u001b[38;5;124m\"\u001b[39m)\n\u001b[0;32m    278\u001b[0m     \u001b[38;5;28;01mreturn\u001b[39;00m node\n\u001b[1;32m--> 279\u001b[0m explored\u001b[38;5;241m.\u001b[39madd(node\u001b[38;5;241m.\u001b[39mstate)\n\u001b[0;32m    280\u001b[0m \u001b[38;5;28;01mfor\u001b[39;00m child \u001b[38;5;129;01min\u001b[39;00m node\u001b[38;5;241m.\u001b[39mexpand(problem):\n\u001b[0;32m    281\u001b[0m     \u001b[38;5;28;01mif\u001b[39;00m child\u001b[38;5;241m.\u001b[39mstate \u001b[38;5;129;01mnot\u001b[39;00m \u001b[38;5;129;01min\u001b[39;00m explored \u001b[38;5;129;01mand\u001b[39;00m child \u001b[38;5;129;01mnot\u001b[39;00m \u001b[38;5;129;01min\u001b[39;00m frontier:\n",
      "\u001b[1;31mTypeError\u001b[0m: unhashable type: 'dict'"
     ]
    }
   ],
   "source": [
    "%%time\n",
    "astar_search(p, h_1).solution()"
   ]
  },
  {
   "cell_type": "code",
   "execution_count": 176,
   "id": "395e1312-4b59-4f38-9d7c-14959fbb78f1",
   "metadata": {},
   "outputs": [],
   "source": [
    "s = (\n",
    "    {'S': [(0, 2)], 'H': [(0, 3)], 'L': [(4, 3)], 'V': [(2, 3)]},\n",
    "    {0: {3: 'H', 2: 'S'}, 2: {3: 'V'}, 4: {3: 'L'}},\n",
    "    {2: {0: 'S'},3: {0: 'H', 2: 'V', 4: 'L'}}\n",
    "    )\n",
    "p = Movix(N, Y, s, muros)"
   ]
  },
  {
   "cell_type": "code",
   "execution_count": 78,
   "id": "7cd0512f-3722-43be-a125-e2f2c892ffc6",
   "metadata": {},
   "outputs": [
    {
     "name": "stdout",
     "output_type": "stream",
     "text": [
      "CPU times: total: 2.05 s\n",
      "Wall time: 3.14 s\n"
     ]
    },
    {
     "data": {
      "text/plain": [
       "['Mover ficha V de (2,3) a (2,4)',\n",
       " 'Mover ficha H de (0,3) a (1,3)',\n",
       " 'Mover ficha L de (4,3) a (3,4)',\n",
       " 'Mover ficha L de (3,4) a (3,5)']"
      ]
     },
     "execution_count": 78,
     "metadata": {},
     "output_type": "execute_result"
    }
   ],
   "source": [
    "%%time\n",
    "breadth_first_tree_search(p).solution()"
   ]
  },
  {
   "cell_type": "code",
   "execution_count": 121,
   "id": "e869f665-a5e3-4fe4-870c-8252731331ab",
   "metadata": {},
   "outputs": [],
   "source": [
    "s = (\n",
    "    {'S': [(0, 4)], 'H': [(0, 3)], 'L': [(4, 3)], 'V': [(2, 3)]},\n",
    "    {0: {3: 'H', 4: 'S'}, 2: {3: 'V'}, 4: {3: 'L'}},\n",
    "    {3: {0: 'H', 2: 'V', 4: 'L'},4: {0: 'S'}}\n",
    "    )\n",
    "p = Movix(N, Y, s, muros)"
   ]
  },
  {
   "cell_type": "code",
   "execution_count": 123,
   "id": "6cec8a7f-3b16-4cf8-93fe-112c177d0f21",
   "metadata": {},
   "outputs": [
    {
     "data": {
      "text/plain": [
       "['Mover ficha V de (2,3) a (2,4)',\n",
       " 'Mover ficha L de (4,3) a (3,4)',\n",
       " 'Mover ficha S de (0,4) a (0,2)',\n",
       " 'Mover ficha H de (0,3) a (1,3)',\n",
       " 'Mover ficha L de (3,4) a (3,5)']"
      ]
     },
     "execution_count": 123,
     "metadata": {},
     "output_type": "execute_result"
    }
   ],
   "source": [
    "breadth_first_tree_search(p).solution()"
   ]
  },
  {
   "cell_type": "code",
   "execution_count": null,
   "id": "656c9ca2-554d-40c8-962c-834d5aac4d3e",
   "metadata": {},
   "outputs": [],
   "source": [
    "s = (\n",
    "    {'S': [(1, 7), (3, 7)], 'H': [(1, 5), (8, 2)], 'L': [(4, 1), (3, 9)], 'V': [(4, 6), (6, 7)]},\n",
    "    {1: {5: 'H', 7: 'S'}, 3: {7: 'S', 9: 'L'}, 4: {1: 'L', 6: 'V'}, 6: {7: 'V'}, 8: {2: 'H'}},\n",
    "    {1: {6: 'L'}, 2: {8: 'H'}, 5: {1: 'H'}, 6: {4: 'V'}, 7: {1: 'S', 3: 'S', 6: 'V'}, 9: {3: 'L'}}\n",
    ")\n",
    "\n",
    "p = Movix(10, 2, s)"
   ]
  },
  {
   "cell_type": "code",
   "execution_count": null,
   "id": "d8b54eb4-08c8-4cd8-84e8-3ff1b53e9f4e",
   "metadata": {},
   "outputs": [],
   "source": [
    "breadth_first_tree_search(p).solution()"
   ]
  }
 ],
 "metadata": {
  "kernelspec": {
   "display_name": "Python 3 (ipykernel)",
   "language": "python",
   "name": "python3"
  },
  "language_info": {
   "codemirror_mode": {
    "name": "ipython",
    "version": 3
   },
   "file_extension": ".py",
   "mimetype": "text/x-python",
   "name": "python",
   "nbconvert_exporter": "python",
   "pygments_lexer": "ipython3",
   "version": "3.12.4"
  }
 },
 "nbformat": 4,
 "nbformat_minor": 5
}
