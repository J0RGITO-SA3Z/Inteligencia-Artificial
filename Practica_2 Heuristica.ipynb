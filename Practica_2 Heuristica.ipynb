{
 "cells": [
  {
   "cell_type": "code",
   "execution_count": 20,
   "id": "6d8c2291-334a-4575-a5c7-0718ebc042da",
   "metadata": {},
   "outputs": [],
   "source": [
    "import copy\n",
    "\n",
    "import re\n",
    "\n",
    "from search import *"
   ]
  },
  {
   "cell_type": "code",
   "execution_count": 21,
   "id": "c863ff2a-cb8b-4338-80fd-e5645a84ed48",
   "metadata": {},
   "outputs": [],
   "source": [
    "def convert_to_dic (estado):\n",
    "    tupla1 = estado[0]\n",
    "    tupla2 = estado[1]\n",
    "    tupla3 = estado[2]\n",
    "\n",
    "    diccionario1 = dict(tupla1)\n",
    "    for f in diccionario1:\n",
    "        diccionario1[f] = list(diccionario1[f])\n",
    "\n",
    "    diccionario2 = dict(tupla2)\n",
    "    for f in diccionario2:\n",
    "        diccionario2[f] = dict(diccionario2[f])\n",
    "\n",
    "    diccionario3 = dict(tupla3)\n",
    "    for f in diccionario3:\n",
    "        diccionario3[f] = dict(diccionario3[f])\n",
    "\n",
    "    s = (diccionario1, diccionario2, diccionario3)\n",
    "    return s"
   ]
  },
  {
   "cell_type": "code",
   "execution_count": 22,
   "id": "0e70438a-1802-4d8f-9be2-f3f816b421da",
   "metadata": {},
   "outputs": [],
   "source": [
    "def convert_to_tuple(estado):\n",
    "    \n",
    "    d1 =  estado[0]\n",
    "    d2 =  estado[1]\n",
    "    d3 =  estado[2]\n",
    "\n",
    "    l1 = []\n",
    "    for f, p in d1.items():\n",
    "        l1.append((f, tuple(x for x in p)))\n",
    "    \n",
    "    l2 = []\n",
    "    for x, d in d2.items():\n",
    "        l2.append((x, tuple(a for a in d.items())))\n",
    "    \n",
    "    l3 = []\n",
    "    for y, d in d3.items():\n",
    "        l3.append((y, tuple(a for a in d.items())))\n",
    "    \n",
    "    s = (tuple(l1), tuple(l2), tuple(l3))\n",
    "    return s"
   ]
  },
  {
   "cell_type": "code",
   "execution_count": 23,
   "id": "057e6d0a-353a-4156-883c-97e2e11a931f",
   "metadata": {
    "scrolled": true
   },
   "outputs": [],
   "source": [
    "class Movix(Problem):\n",
    "    N = 0\n",
    "    Y = 0\n",
    "    muros = []\n",
    "\n",
    "    def __init__(self, N, Y, initial, goal=None, muros = []):\n",
    "        '''Inicializacion de nuestro problema.'''\n",
    "        Problem.__init__(self, initial, goal)\n",
    "        self.N = N\n",
    "        self.Y = Y\n",
    "        self._actions = []\n",
    "        self.muros = muros\n",
    "\n",
    "        for i in range(1, N):\n",
    "            self._actions.append(('V', (0, i)))\n",
    "            self._actions.append(('V', (0, -i)))\n",
    "\n",
    "        for i in range(1, N):\n",
    "            self._actions.append(('H', (i, 0)))\n",
    "            self._actions.append(('H', (-i, 0)))\n",
    "\n",
    "        for i in range(-1, 2):\n",
    "            for j in range(-1, 2):\n",
    "                if i != 0 or j != 0:\n",
    "                    self._actions.append(('L', (i, j)))\n",
    "                    if i == 0 or j == 0:\n",
    "                        self._actions.append(('S', (2 * i, 2 * j)))\n",
    "\n",
    "    def mostrarAcciones(self):\n",
    "        print(self._actions)\n",
    "\n",
    "    def actions(self, estado):\n",
    "\n",
    "        s = convert_to_dic(estado)\n",
    "        \n",
    "        actions_list = []\n",
    "        for a in self._actions:\n",
    "            for pos in s[0][a[0]]:\n",
    "                if self._is_valid(a, pos, s):\n",
    "                #if self.esValido(a, pos, s):\n",
    "                    actions_list.append(\"Mover ficha {} de ({},{}) a ({},{})\".format(a[0], pos[0], pos[1], (pos[0] + a[1][0]), (pos[1] + a[1][1])))\n",
    "\n",
    "        return actions_list\n",
    "\n",
    "    #Nuevo is_valid con la condicion adicional de los muros\n",
    "    def _is_valid(self, a, pos, estado):\n",
    "\n",
    "        s = convert_to_dic(estado)\n",
    "        fila, columna = (pos[0] + a[1][0], pos[1] + a[1][1])\n",
    "        #Compruebo que la posicion este dentro de las dimensiones del tablero, que no hay ninguna ficha\n",
    "        #en dicha posicion y que tampoco haya ningun muro\n",
    "        if (fila < self.N and fila >= 0 and columna < self.N and columna >= 0 and \n",
    "            (fila not in s[1] or columna not in s[1][fila]) and self.muros.count((fila, columna)) == 0):\n",
    "            match a[0]:\n",
    "                case 'V':\n",
    "                    return not(fila in s[1] and (any(pos[1] < y < columna for y in s[1][fila]) or any(columna < y < pos[1] for y in s[1][fila])))\n",
    "                case 'H':\n",
    "                    return not(columna in s[2] and (any(pos[0] < x < fila for x in s[2][columna]) or any(fila < x < pos[0] for x in s[2][columna])))\n",
    "                case 'S':\n",
    "                    #Como la ficha S no puede saltar muros compruebo adicionalmente que no haya un muro en la casilla adyacente a S\n",
    "                    return not(not (pos[0] + a[1][0]/2 in s[1] and (pos[1] + a[1][1]/2) in s[1][pos[0] + a[1][0]/2])) and self.muros.count((pos[0] + a[1][0]/2, pos[1] + a[1][1]/2)) == 0\n",
    "                case 'L':\n",
    "                    return True\n",
    "        else:\n",
    "            return False\n",
    "        \n",
    "    #Antiguo is_valid\n",
    "    def esValido(self, a, pos, s):\n",
    "        fil, col = (pos[0] + a[1][0], pos[1] + a[1][1])\n",
    "         # Verificamos si la ficha está dentro de los límites del tablero\n",
    "        if fil >= self.N or fil < 0 or col >= self.N or col < 0:\n",
    "            return False  # Si alguna ficha está fuera de los límites, el estado no es válido\n",
    "        if fil in s[1] and col in s[1][fil]:\n",
    "            return False\n",
    "        if a[0] == 'V' and fil in s[1] and (any(pos[1] < y < col for y in s[1][fil]) or any(col < y < pos[1] for y in s[1][fil])):\n",
    "            return False\n",
    "        if a[0] == 'H' and col in s[2] and (any(pos[0] < x < fil for x in s[2][col]) or any(fil < x < pos[0] for x in s[2][col])):\n",
    "            return False\n",
    "        if a[0] == 'S' and not (pos[0] + a[1][0]/2 in s[1] and (pos[1] + a[1][1]/2) in s[1][pos[0] + a[1][0]/2]):\n",
    "            return False\n",
    "        return True       # Si todas las fichas están dentro de los límites, y cumplen las propiedades el estado es válido\n",
    "\n",
    "    def result(self, estado, action):\n",
    "\n",
    "        s = convert_to_dic(estado)\n",
    "\n",
    "        patron = r\"Mover ficha (\\w) de \\((\\d+),(\\d+)\\) a \\((\\d+),(\\d+)\\)\"\n",
    "        # Buscar los valores\n",
    "        resultado = re.findall(patron, action)\n",
    "\n",
    "        if resultado:\n",
    "            ficha, x1, y1, x2, y2 = resultado[0]\n",
    "            x1, y1 = int(x1), int(y1)\n",
    "            x2, y2 = int(x2), int(y2)\n",
    "\n",
    "            new_s = copy.deepcopy(s)\n",
    "\n",
    "            new_s[0][ficha].remove((x1, y1))\n",
    "            #no deberia hacer falta comprobar con estos ifs \n",
    "            if y1 in new_s[2] and x1 in new_s[2][y1]:\n",
    "                new_s[2][y1].pop(x1)\n",
    "            if x1 in new_s[1] and y1 in new_s[1][x1]:\n",
    "                new_s[1][x1].pop(y1)\n",
    "\n",
    "            \n",
    "            if x1 in new_s[1] and len(new_s[1][x1]) == 0:\n",
    "                del new_s[1][x1]\n",
    "            if y1 in new_s[2] and len(new_s[2][y1]) == 0:\n",
    "                del new_s[2][y1]\n",
    "\n",
    "            \n",
    "            if x2 not in new_s[1]:\n",
    "                new_s[1][x2] = {}\n",
    "\n",
    "            if y2 not in new_s[2]:\n",
    "                new_s[2][y2] = {}\n",
    "\n",
    "            new_s[0][ficha].append((x2, y2))\n",
    "            new_s[1][x2][y2] = ficha\n",
    "            new_s[2][y2][x2] = ficha\n",
    "\n",
    "            #nos aseguramos q todo este ordenado\n",
    "            d1 = new_s[0]\n",
    "            d2 = {k: new_s[1][k] for k in sorted(new_s[1].keys())}\n",
    "            d3 = {k: new_s[2][k] for k in sorted(new_s[2].keys())}\n",
    "  \n",
    "            #return new_s\n",
    "            return convert_to_tuple((d1,d2,d3))\n",
    "        else:\n",
    "            return None\n",
    "\n",
    "    def goal_test(self, estado):\n",
    "\n",
    "        s = convert_to_dic(estado)\n",
    "        \n",
    "        #linea = (len(s[1]) == 1 and max(s[2].keys()) - min(s[2].keys()) == self.Y*4 - 1) or (len(s[2]) == 1 and max(s[1].keys()) - min(s[1].keys()) == self.Y*4 - 1)\n",
    "        linea = len(s[1]) == 1 or len(s[2]) == 1\n",
    "\n",
    "        diagonal_pos = True\n",
    "        #if len(s[1]) > 0 and len(s[1][min(s[1])]) > 0:\n",
    "        clave_minima = min(s[1])\n",
    "        diferencia = clave_minima - min(s[1][clave_minima])\n",
    "        for i in s[1]:\n",
    "            if(len(s[1][i]) > 1):\n",
    "                diagonal_pos = False\n",
    "                break\n",
    "            elif(i - min(s[1][i]) != diferencia):\n",
    "                diagonal_pos = False\n",
    "                break\n",
    "\n",
    "        diagonal_neg = True\n",
    "        clave_minima = min(s[1])\n",
    "        diferencia = clave_minima - (Y * 4 - 1 - min(s[1][clave_minima]))\n",
    "        for i in s[1]:\n",
    "            if(len(s[1][i]) > 1):\n",
    "                diagonal_neg = False\n",
    "                break\n",
    "            elif(i - (Y * 4 - 1 - min(s[1][i])) != diferencia):\n",
    "                diagonal_neg = False\n",
    "                break\n",
    "        \n",
    "        return linea or diagonal_pos or diagonal_neg\n",
    "\n",
    "        "
   ]
  },
  {
   "cell_type": "code",
   "execution_count": 24,
   "id": "d1a5b010-55b8-432b-83c1-79a58ad2d5b8",
   "metadata": {},
   "outputs": [],
   "source": [
    "def h_1(node):\n",
    "    estado = node.state\n",
    "    s = convert_to_dic(estado)\n",
    "\n",
    "    # Calculamos el número de fichas restantes para hacer una fila en X e Y\n",
    "    left_x = Y * 4 - len(s[1]) if s[1] else Y * 4\n",
    "    left_y = Y * 4 - len(s[2]) if s[2] else Y * 4\n",
    "    left_diag = 0\n",
    "\n",
    "    # Calculamos el número de fichas restantes para hacer una diagonal\n",
    "    if s[1]:  # Verificar que s[1] no esté vacío\n",
    "        clave_minima = min(s[1].keys())\n",
    "        diferencia = clave_minima - min(s[1][clave_minima]) if s[1][clave_minima] else 0\n",
    "        for i in s[1]:\n",
    "            if s[1][i] and (i - min(s[1][i]) != diferencia):  # Verifica que s[1][i] no esté vacío\n",
    "                left_diag += 1\n",
    "\n",
    "    return min(left_x, left_y, left_diag)\n",
    "\n",
    "#esta heurística solo tiene en cuenta el número de fichas restantes para ponerlas en línea\n",
    "def h_2(node):\n",
    "    estado = node.state\n",
    "    s = convert_to_dic(estado)\n",
    "\n",
    "    # Calculamos el número de fichas restantes para hacer una fila H o V\n",
    "    left_x = len(s[1]) #el número de coordenadas x son las fichas q faltan para hacer una fila V\n",
    "    left_y = len(s[2]) #el número de coordenadas y son las fichas q faltan para hacer una fila H\n",
    "    left_diag_pos = 0\n",
    "    left_diag_neg = 0\n",
    "\n",
    "    #para las diagonales usamos la propiedad de q la resta de x-y se cumple que dará lo mismo en una misma diagonal positiva (0-0 = 0, 1-1 = 0...; 1-0 = 1, 2-1 = 1...)\n",
    "\n",
    "    #calcular la diferencia en función del mínimo es malo en el caso de q sea la única, o de las pocas sin alinear\n",
    "    clave_minima = min(s[1])\n",
    "    diferencia = clave_minima - min(s[1][clave_minima]) #empezamos calculando la difernecia, que se mantendrá constante en toda la diagonal\n",
    "    for i in s[1]:\n",
    "        if(len(s[1][i]) > 1):\n",
    "            left_diag_pos += len(s[1][i]) - 1\n",
    "        elif(i - min(s[1][i]) != diferencia):\n",
    "            left_diag_pos += 1\n",
    "\n",
    "    #(Y * 4 - 1) - y para invertir las y y tratralo como una diagonal positiva\n",
    "    diferencia = clave_minima - (Y * 4 - 1 - min(s[1][clave_minima]))\n",
    "    for i in s[1]:\n",
    "        if(len(s[1][i]) > 1):\n",
    "            left_diag_neg += len(s[1][i]) - 1\n",
    "        elif(i - (Y * 4 - 1 - min(s[1][i])) != diferencia):\n",
    "            left_diag_neg += 1\n",
    "\n",
    "    return min(left_x, left_y, left_diag_pos, left_diag_neg)\n",
    "\n",
    "#esta además de tener en cuenta el número de fichas restantes para ponerlas en línea, suma la distancia q hay entre la mayor y la menor\n",
    "def h_3(node):\n",
    "    estado = node.state\n",
    "    s = convert_to_dic(estado)\n",
    "\n",
    "    # Calculamos el número de fichas restantes para hacer una fila en X e Y y le sumamos la distancia máxima entre dos de ellas\n",
    "    left_x = len(s[1]) + (max(s[1].keys()) - min(s[1].keys()) - 1)\n",
    "    left_y = len(s[2]) + (max(s[2].keys()) - min(s[2].keys()) - 1)\n",
    "    left_diag_pos = 0\n",
    "    left_diag_neg = 0\n",
    "\n",
    "    #calcular la diferencia en función del mínimo es malo en el caso de q sea la única, o de las pocas sin alinear\n",
    "    clave_minima = min(s[1])\n",
    "    diferencia = clave_minima - min(s[1][clave_minima])\n",
    "    for i in s[1]:\n",
    "        if(len(s[1][i]) > 1): #max(abs(i - max(s[1][i]) - diferencia), abs(i - min(s[1][i]) - diferencia)) casi lo mismo\n",
    "            left_diag_pos += len(s[1][i]) - 1 + (max(s[1][i]) - min(s[1]) - 1)\n",
    "        elif(i - min(s[1][i]) != diferencia):\n",
    "            left_diag_pos += 1 * abs(i - min(s[1][i]) - diferencia)\n",
    "\n",
    "    #(Y * 4 - 1) - y para invertir las y y tratralo como una diagonal positiva\n",
    "    clave_minima = min(s[1])\n",
    "    diferencia = clave_minima - (Y * 4 - 1 - min(s[1][clave_minima]))\n",
    "    for i in s[1]:\n",
    "        if(len(s[1][i]) > 1): #max(abs(i - max(s[1][i]) - diferencia), abs(i - min(s[1][i]) - diferencia)) casi lo mismo\n",
    "            left_diag_neg += len(s[1][i]) - 1 + (max(s[1][i]) - min(s[1]) - 1)\n",
    "        elif(i - (Y * 4 - 1 - min(s[1][i])) != diferencia):\n",
    "            left_diag_neg += 1 * abs(i - (Y * 4 - 1 - min(s[1][i])) - diferencia)\n",
    "\n",
    "    return min(left_x, left_y, left_diag_pos, left_diag_neg)\n",
    "\n",
    "#en esta heurística hemos probado a multiplicar tanto las fichas q están descolocadas como la distancia máxima, para darle mayor o menor peso, pero resulta ineficiente comparado con la relación 1:1\n",
    "def h_4(node):\n",
    "    estado = node.state\n",
    "    s = convert_to_dic(estado)\n",
    "    alpha = 0.3\n",
    "\n",
    "    # Calculamos el número de fichas restantes para hacer una fila en X e Y\n",
    "    left_x = (1-alpha) * len(s[1]) + alpha*(max(s[1].keys()) - min(s[1].keys()) - 1) \n",
    "    left_y = (1-alpha) * len(s[2]) + alpha*(max(s[2].keys()) - min(s[2].keys()) - 1)\n",
    "    left_diag_pos = 0\n",
    "    left_diag_neg = 0\n",
    "\n",
    "    clave_minima = min(s[1])\n",
    "    diferencia = clave_minima - min(s[1][clave_minima])\n",
    "    for i in s[1]:\n",
    "        if(len(s[1][i]) > 1): #max(abs(i - max(s[1][i]) - diferencia), abs(i - min(s[1][i]) - diferencia)) casi lo mismo\n",
    "            left_diag_pos += (1-alpha) * (len(s[1][i]) - 1) + alpha*(max(s[1][i]) - min(s[1]) - 1)\n",
    "        elif(i - min(s[1][i]) != diferencia):\n",
    "            left_diag_pos += (1-alpha) + alpha * abs(i - min(s[1][i]) - diferencia)\n",
    "\n",
    "    clave_minima = min(s[1])\n",
    "    diferencia = clave_minima - (Y * 4 - 1 - min(s[1][clave_minima]))\n",
    "    for i in s[1]:\n",
    "        if(len(s[1][i]) > 1): #max(abs(i - max(s[1][i]) - diferencia), abs(i - min(s[1][i]) - diferencia)) casi lo mismo\n",
    "            left_diag_neg += (1-alpha) * (len(s[1][i]) - 1) + alpha*(max(s[1][i]) - min(s[1]) - 1)\n",
    "        elif(i - (Y * 4 - 1 - min(s[1][i])) != diferencia):\n",
    "            left_diag_neg += (1-alpha) + alpha * abs(i - (Y * 4 - 1 - min(s[1][i])) - diferencia)\n",
    "\n",
    "    return min(left_x, left_y, left_diag_pos, left_diag_neg)"
   ]
  },
  {
   "cell_type": "code",
   "execution_count": 25,
   "id": "bda43370-da01-4cfb-bd8b-e22e2adec074",
   "metadata": {},
   "outputs": [
    {
     "data": {
      "text/plain": [
       "['Mover ficha V de (0,3) a (0,4)',\n",
       " 'Mover ficha V de (0,3) a (0,2)',\n",
       " 'Mover ficha V de (0,3) a (0,1)',\n",
       " 'Mover ficha V de (0,3) a (0,0)',\n",
       " 'Mover ficha H de (3,1) a (4,1)',\n",
       " 'Mover ficha H de (3,1) a (2,1)',\n",
       " 'Mover ficha L de (2,2) a (1,2)',\n",
       " 'Mover ficha L de (2,2) a (1,3)',\n",
       " 'Mover ficha L de (2,2) a (2,1)',\n",
       " 'Mover ficha L de (2,2) a (2,3)',\n",
       " 'Mover ficha L de (2,2) a (3,2)',\n",
       " 'Mover ficha L de (2,2) a (3,3)']"
      ]
     },
     "execution_count": 25,
     "metadata": {},
     "output_type": "execute_result"
    }
   ],
   "source": [
    "s1 = (\n",
    "    {'S': [(1, 1)], 'H': [(3, 1)], 'L': [(2, 2)], 'V': [(0, 3)]},\n",
    "    {0: {3: 'V'}, 1: {1: 'S'}, 2: {2: 'L'}, 3: {1: 'H'}},\n",
    "    {1: {1: 'S', 3: 'H'}, 2: {2: 'L'}, 3: {0: 'V'}}\n",
    "    )\n",
    "N = 5\n",
    "Y = 1\n",
    "\n",
    "s = convert_to_tuple(s1)\n",
    "p = Movix(N, Y, s)\n",
    "p.actions(p.initial)"
   ]
  },
  {
   "cell_type": "code",
   "execution_count": 26,
   "id": "aa75f9bc-5e5e-49c0-8d01-570ddd2aeb0a",
   "metadata": {},
   "outputs": [
    {
     "name": "stdout",
     "output_type": "stream",
     "text": [
      "CPU times: total: 46.9 ms\n",
      "Wall time: 59.4 ms\n"
     ]
    },
    {
     "data": {
      "text/plain": [
       "['Mover ficha V de (0,3) a (0,1)', 'Mover ficha L de (2,2) a (2,1)']"
      ]
     },
     "execution_count": 26,
     "metadata": {},
     "output_type": "execute_result"
    }
   ],
   "source": [
    "%%time\n",
    "breadth_first_tree_search(p).solution()"
   ]
  },
  {
   "cell_type": "code",
   "execution_count": 27,
   "id": "601be06f-70cd-40c0-a27b-1e58a3a45109",
   "metadata": {},
   "outputs": [
    {
     "name": "stdout",
     "output_type": "stream",
     "text": [
      "CPU times: total: 0 ns\n",
      "Wall time: 0 ns\n"
     ]
    }
   ],
   "source": [
    "%%time\n",
    "#astar_search(p, h_1).solution()"
   ]
  },
  {
   "cell_type": "code",
   "execution_count": 28,
   "id": "13e70572-773c-4963-8357-604647ebbc37",
   "metadata": {},
   "outputs": [
    {
     "name": "stdout",
     "output_type": "stream",
     "text": [
      "CPU times: total: 15.6 ms\n",
      "Wall time: 25.4 ms\n"
     ]
    },
    {
     "data": {
      "text/plain": [
       "['Mover ficha L de (2,2) a (2,1)', 'Mover ficha V de (0,3) a (0,1)']"
      ]
     },
     "execution_count": 28,
     "metadata": {},
     "output_type": "execute_result"
    }
   ],
   "source": [
    "%%time\n",
    "astar_search(p, h_2).solution()"
   ]
  },
  {
   "cell_type": "code",
   "execution_count": 29,
   "id": "395e1312-4b59-4f38-9d7c-14959fbb78f1",
   "metadata": {},
   "outputs": [],
   "source": [
    "s2 = (\n",
    "    {'S': [(0, 2)], 'H': [(0, 3)], 'L': [(4, 3)], 'V': [(2, 3)]},\n",
    "    {0: {3: 'H', 2: 'S'}, 2: {3: 'V'}, 4: {3: 'L'}},\n",
    "    {2: {0: 'S'},3: {0: 'H', 2: 'V', 4: 'L'}}\n",
    "    )\n",
    "N = 6\n",
    "Y = 1\n",
    "\n",
    "s = convert_to_tuple(s2)\n",
    "p = Movix(N, Y, s)"
   ]
  },
  {
   "cell_type": "code",
   "execution_count": 30,
   "id": "52bdba32-7026-4793-896a-6559a6f4c0b5",
   "metadata": {},
   "outputs": [
    {
     "name": "stdout",
     "output_type": "stream",
     "text": [
      "CPU times: total: 0 ns\n",
      "Wall time: 0 ns\n"
     ]
    }
   ],
   "source": [
    "%%time\n",
    "#breadth_first_tree_search(p).solution()"
   ]
  },
  {
   "cell_type": "code",
   "execution_count": 50,
   "id": "7cd0512f-3722-43be-a125-e2f2c892ffc6",
   "metadata": {},
   "outputs": [
    {
     "ename": "TypeError",
     "evalue": "'int' object is not callable",
     "output_type": "error",
     "traceback": [
      "\u001b[1;31m---------------------------------------------------------------------------\u001b[0m",
      "\u001b[1;31mTypeError\u001b[0m                                 Traceback (most recent call last)",
      "File \u001b[1;32m<timed exec>:2\u001b[0m\n",
      "\u001b[1;31mTypeError\u001b[0m: 'int' object is not callable"
     ]
    }
   ],
   "source": [
    "%%time\n",
    "astar_search(p, h_1).solution()\n",
    "astar_search(p, h_1).path_cost()"
   ]
  },
  {
   "cell_type": "code",
   "execution_count": 53,
   "id": "ec48b642-0a40-4025-bb40-921692846303",
   "metadata": {},
   "outputs": [
    {
     "ename": "TypeError",
     "evalue": "'int' object is not callable",
     "output_type": "error",
     "traceback": [
      "\u001b[1;31m---------------------------------------------------------------------------\u001b[0m",
      "\u001b[1;31mTypeError\u001b[0m                                 Traceback (most recent call last)",
      "File \u001b[1;32m<timed exec>:2\u001b[0m\n",
      "\u001b[1;31mTypeError\u001b[0m: 'int' object is not callable"
     ]
    }
   ],
   "source": [
    "%%time\n",
    "astar_search(p, h_2).solution()\n",
    "astar_search(p, h_2).path_cost()"
   ]
  },
  {
   "cell_type": "code",
   "execution_count": 51,
   "id": "75f15e09-382c-4064-8fd8-5bcb0d089e27",
   "metadata": {},
   "outputs": [
    {
     "ename": "TypeError",
     "evalue": "'int' object is not callable",
     "output_type": "error",
     "traceback": [
      "\u001b[1;31m---------------------------------------------------------------------------\u001b[0m",
      "\u001b[1;31mTypeError\u001b[0m                                 Traceback (most recent call last)",
      "File \u001b[1;32m<timed exec>:2\u001b[0m\n",
      "\u001b[1;31mTypeError\u001b[0m: 'int' object is not callable"
     ]
    }
   ],
   "source": [
    "%%time\n",
    "astar_search(p, h_3).solution()\n",
    "astar_search(p, h_3).path_cost()"
   ]
  },
  {
   "cell_type": "code",
   "execution_count": 34,
   "id": "810979d6-5a0d-4737-884b-4f40eedd7d20",
   "metadata": {},
   "outputs": [
    {
     "name": "stdout",
     "output_type": "stream",
     "text": [
      "CPU times: total: 109 ms\n",
      "Wall time: 164 ms\n"
     ]
    },
    {
     "data": {
      "text/plain": [
       "['Mover ficha H de (0,3) a (1,3)',\n",
       " 'Mover ficha V de (2,3) a (2,4)',\n",
       " 'Mover ficha L de (4,3) a (3,4)',\n",
       " 'Mover ficha L de (3,4) a (3,5)']"
      ]
     },
     "execution_count": 34,
     "metadata": {},
     "output_type": "execute_result"
    }
   ],
   "source": [
    "%%time\n",
    "astar_search(p, h_4).solution()"
   ]
  },
  {
   "cell_type": "code",
   "execution_count": 292,
   "id": "e869f665-a5e3-4fe4-870c-8252731331ab",
   "metadata": {},
   "outputs": [],
   "source": [
    "s3 = (\n",
    "    {'S': [(0, 4)], 'H': [(0, 3)], 'L': [(4, 3)], 'V': [(2, 3)]},\n",
    "    {0: {3: 'H', 4: 'S'}, 2: {3: 'V'}, 4: {3: 'L'}},\n",
    "    {3: {0: 'H', 2: 'V', 4: 'L'},4: {0: 'S'}}\n",
    "    )\n",
    "N = 6\n",
    "Y = 1\n",
    "\n",
    "s = convert_to_tuple(s3)\n",
    "p = Movix(N, Y, s)"
   ]
  },
  {
   "cell_type": "code",
   "execution_count": 293,
   "id": "6cec8a7f-3b16-4cf8-93fe-112c177d0f21",
   "metadata": {},
   "outputs": [
    {
     "name": "stdout",
     "output_type": "stream",
     "text": [
      "CPU times: total: 0 ns\n",
      "Wall time: 0 ns\n"
     ]
    }
   ],
   "source": [
    "%%time\n",
    "#breadth_first_tree_search(p).solution() NO ME VA (han pasado más de 6 mins)"
   ]
  },
  {
   "cell_type": "code",
   "execution_count": 294,
   "id": "68145157-d6c3-45e9-af1b-290011ad4141",
   "metadata": {},
   "outputs": [
    {
     "name": "stdout",
     "output_type": "stream",
     "text": [
      "CPU times: total: 0 ns\n",
      "Wall time: 0 ns\n"
     ]
    }
   ],
   "source": [
    "%%time\n",
    "#astar_search(p, h_1).solution()"
   ]
  },
  {
   "cell_type": "code",
   "execution_count": 295,
   "id": "fe772047-914c-408d-aeb5-288a8713e8e7",
   "metadata": {},
   "outputs": [
    {
     "name": "stdout",
     "output_type": "stream",
     "text": [
      "CPU times: total: 156 ms\n",
      "Wall time: 208 ms\n"
     ]
    },
    {
     "data": {
      "text/plain": [
       "['Mover ficha H de (0,3) a (1,3)',\n",
       " 'Mover ficha V de (2,3) a (2,2)',\n",
       " 'Mover ficha L de (4,3) a (3,2)',\n",
       " 'Mover ficha L de (3,2) a (3,1)']"
      ]
     },
     "execution_count": 295,
     "metadata": {},
     "output_type": "execute_result"
    }
   ],
   "source": [
    "%%time\n",
    "astar_search(p, h_2).solution()"
   ]
  },
  {
   "cell_type": "code",
   "execution_count": 296,
   "id": "32d4a449-f034-43be-b87a-448654984a74",
   "metadata": {},
   "outputs": [
    {
     "name": "stdout",
     "output_type": "stream",
     "text": [
      "CPU times: total: 31.2 ms\n",
      "Wall time: 70.5 ms\n"
     ]
    },
    {
     "data": {
      "text/plain": [
       "['Mover ficha H de (0,3) a (1,3)',\n",
       " 'Mover ficha L de (4,3) a (3,2)',\n",
       " 'Mover ficha L de (3,2) a (3,1)',\n",
       " 'Mover ficha V de (2,3) a (2,2)']"
      ]
     },
     "execution_count": 296,
     "metadata": {},
     "output_type": "execute_result"
    }
   ],
   "source": [
    "%%time\n",
    "astar_search(p, h_3).solution()"
   ]
  },
  {
   "cell_type": "code",
   "execution_count": 299,
   "id": "74d377ec-25f6-4819-a819-f5a61fdee723",
   "metadata": {},
   "outputs": [
    {
     "name": "stdout",
     "output_type": "stream",
     "text": [
      "CPU times: total: 109 ms\n",
      "Wall time: 149 ms\n"
     ]
    },
    {
     "data": {
      "text/plain": [
       "['Mover ficha H de (0,3) a (1,3)',\n",
       " 'Mover ficha V de (2,3) a (2,2)',\n",
       " 'Mover ficha L de (4,3) a (3,2)',\n",
       " 'Mover ficha L de (3,2) a (3,1)']"
      ]
     },
     "execution_count": 299,
     "metadata": {},
     "output_type": "execute_result"
    }
   ],
   "source": [
    "%%time\n",
    "astar_search(p, h_4).solution()"
   ]
  },
  {
   "cell_type": "code",
   "execution_count": 300,
   "id": "58fa81db-1d56-400e-a3a0-8417af979c81",
   "metadata": {},
   "outputs": [],
   "source": [
    "s2 = (\n",
    "    {'S': [(2, 0)], 'H': [(3, 0)], 'L': [(3, 4)], 'V': [(3, 2)]},\n",
    "    {2: {0: 'S'},3: {0: 'H', 2: 'V', 4: 'L'}},\n",
    "    {0: {3: 'H', 2: 'S'}, 2: {3: 'V'}, 4: {3: 'L'}}\n",
    "    )\n",
    "N2 = 6\n",
    "Y2 = 1\n",
    "Y = 1\n",
    "muros2 = []\n",
    "\n",
    "s = convert_to_tuple(s2)\n",
    "p = Movix(N2, Y2, s, muros2)"
   ]
  },
  {
   "cell_type": "code",
   "execution_count": 301,
   "id": "bc65d258-2583-4d59-a95d-074f584140c7",
   "metadata": {},
   "outputs": [
    {
     "name": "stdout",
     "output_type": "stream",
     "text": [
      "CPU times: total: 14.9 s\n",
      "Wall time: 15 s\n"
     ]
    },
    {
     "data": {
      "text/plain": [
       "['Mover ficha L de (3,4) a (2,3)',\n",
       " 'Mover ficha L de (2,3) a (1,2)',\n",
       " 'Mover ficha H de (3,0) a (4,0)',\n",
       " 'Mover ficha V de (3,2) a (3,0)',\n",
       " 'Mover ficha L de (1,2) a (0,1)',\n",
       " 'Mover ficha L de (0,1) a (0,0)']"
      ]
     },
     "execution_count": 301,
     "metadata": {},
     "output_type": "execute_result"
    }
   ],
   "source": [
    "%%time\n",
    "astar_search(p, h_4).solution()"
   ]
  },
  {
   "cell_type": "code",
   "execution_count": 302,
   "id": "7e881002-40b9-48d1-a5e4-fc04e21baf65",
   "metadata": {
    "jp-MarkdownHeadingCollapsed": true
   },
   "outputs": [],
   "source": [
    "s = (\n",
    "    {'S': [(1, 2)], 'H': [(2, 3)], 'L': [(3, 1)], 'V': [(4, 1)]},\n",
    "    {1: {2: 'S'}, 2: {3: 'H'}, 3: {1: 'L'}, 4: {1: 'V'}},\n",
    "    {1: {3: 'L', 4: 'V'}, 2: {1: 'S'}, 3: {2: 'H'}}\n",
    "    )\n",
    "N = 6\n",
    "Y = 1\n",
    "p = Movix(N, Y, convert_to_tuple(s))"
   ]
  },
  {
   "cell_type": "code",
   "execution_count": 303,
   "id": "a2bc682a-ed0b-415c-a3d4-89fd054706ef",
   "metadata": {},
   "outputs": [
    {
     "name": "stdout",
     "output_type": "stream",
     "text": [
      "CPU times: total: 250 ms\n",
      "Wall time: 303 ms\n"
     ]
    },
    {
     "data": {
      "text/plain": [
       "['Mover ficha V de (4,1) a (4,5)',\n",
       " 'Mover ficha L de (3,1) a (2,2)',\n",
       " 'Mover ficha L de (2,2) a (3,3)',\n",
       " 'Mover ficha L de (3,3) a (3,4)']"
      ]
     },
     "execution_count": 303,
     "metadata": {},
     "output_type": "execute_result"
    }
   ],
   "source": [
    "%%time\n",
    "astar_search(p, h_4).solution()"
   ]
  },
  {
   "cell_type": "raw",
   "id": "2a934ac5-ba0b-4c99-84d7-ceb8a3ea7ce9",
   "metadata": {},
   "source": [
    "s = (\n",
    "    {'S': [(1, 7), (3, 7)], 'H': [(1, 5), (8, 2)], 'L': [(4, 1), (3, 9)], 'V': [(4, 6), (6, 7)]},\n",
    "    {1: {5: 'H', 7: 'S'}, 3: {7: 'S', 9: 'L'}, 4: {1: 'L', 6: 'V'}, 6: {7: 'V'}, 8: {2: 'H'}},\n",
    "    {1: {6: 'L'}, 2: {8: 'H'}, 5: {1: 'H'}, 6: {4: 'V'}, 7: {1: 'S', 3: 'S', 6: 'V'}, 9: {3: 'L'}}\n",
    ")\n",
    "\n",
    "p = Movix(10, 2, convert_to_tuple(s))"
   ]
  },
  {
   "cell_type": "code",
   "execution_count": 27,
   "id": "7af922bf-cc29-4eb1-97a1-61eb6cbd53d6",
   "metadata": {},
   "outputs": [
    {
     "name": "stdout",
     "output_type": "stream",
     "text": [
      "CPU times: total: 62.5 ms\n",
      "Wall time: 209 ms\n"
     ]
    },
    {
     "data": {
      "text/plain": [
       "['Mover ficha L de (3,1) a (2,2)',\n",
       " 'Mover ficha V de (4,1) a (4,5)',\n",
       " 'Mover ficha L de (2,2) a (3,3)',\n",
       " 'Mover ficha L de (3,3) a (3,4)']"
      ]
     },
     "execution_count": 27,
     "metadata": {},
     "output_type": "execute_result"
    }
   ],
   "source": [
    "%%time\n",
    "astar_search(p, h_4).solution()"
   ]
  },
  {
   "cell_type": "code",
   "execution_count": 28,
   "id": "d8b54eb4-08c8-4cd8-84e8-3ff1b53e9f4e",
   "metadata": {},
   "outputs": [
    {
     "data": {
      "text/plain": [
       "['Mover ficha V de (4,1) a (4,5)',\n",
       " 'Mover ficha L de (3,1) a (2,2)',\n",
       " 'Mover ficha L de (2,2) a (3,3)',\n",
       " 'Mover ficha L de (3,3) a (3,4)']"
      ]
     },
     "execution_count": 28,
     "metadata": {},
     "output_type": "execute_result"
    }
   ],
   "source": [
    "astar_search(p, h_2).solution()"
   ]
  },
  {
   "cell_type": "code",
   "execution_count": 29,
   "id": "9c666593-dcf6-477a-875d-0eae1322026b",
   "metadata": {},
   "outputs": [
    {
     "name": "stdin",
     "output_type": "stream",
     "text": [
      "Introduzca el numero de casillas que tendra el tablero:  10\n",
      "Introduzca el numero de fichas que habra en el tablero:  1\n",
      "Cuantos muros desea que haya en el tablero:  1\n"
     ]
    },
    {
     "data": {
      "text/plain": [
       "({'S': [(4, 6)], 'H': [(9, 4)], 'V': [(1, 8)], 'L': [(1, 2)]},\n",
       " {4: {6: 'S'}, 9: {4: 'H'}, 1: {8: 'V', 2: 'L'}},\n",
       " {6: {4: 'S'}, 4: {9: 'H'}, 8: {1: 'V'}, 2: {1: 'L'}})"
      ]
     },
     "execution_count": 29,
     "metadata": {},
     "output_type": "execute_result"
    }
   ],
   "source": [
    "N = int(input(\"Introduzca el numero de casillas que tendra el tablero: \"))\n",
    "Y = int(input(\"Introduzca el numero de fichas que habra en el tablero: \"))\n",
    "M = int(input(\"Cuantos muros desea que haya en el tablero: \"))\n",
    "\n",
    "while(Y > N):\n",
    "    print(\"El numero de fichas no puede ser mayor a las dimensiones del tablero\")\n",
    "    N = int(input(\"Introduzca el numero de casillas que tendra el tablero: \"))\n",
    "    Y = int(input(\"Introduzca el numero de fichas que habra en el tablero\"))\n",
    "\n",
    "#Lista de posiciones para asegurar que no se repita ninguna posicion\n",
    "posiciones = []\n",
    "\n",
    "#Lista que almacena las posiciones de los muros\n",
    "muros = []\n",
    "\n",
    "#Diccionario que relaciona el tipo de ficha con la lista de las distintas posiciones donde estan\n",
    "fichasPos = {'S' : [], 'H' : [], 'V' : [], 'L' : []}\n",
    "\n",
    "for ficha in fichasPos:\n",
    "    for i in range (0, Y):\n",
    "        pos = (random.randrange(0, N), random.randrange(0, N))\n",
    "        while(posiciones.count(pos) > 0):\n",
    "            pos = (random.randrange(0, N), random.randrange(0, N))\n",
    "\n",
    "        fichasPos[ficha].append(pos)\n",
    "        posiciones.append(pos)\n",
    "\n",
    "for m in range(0, M):\n",
    "    muro = (random.randrange(0, N), random.randrange(0, N))\n",
    "    while(posiciones.count(muro) > 0 or muros.count(muro) > 0):\n",
    "        muro = (random.randrange(0, N), random.randrange(0, N))\n",
    "\n",
    "    muros.append(muro)\n",
    "\n",
    "#Diccionario que guarda todas las fichas que estan en una fila con la columna en la que esta y el tipo de ficha que es\n",
    "xToFicha = {}\n",
    "#Diccionario que guarda todas las fichas que estan en una columna con la fila en la que esta y el tipo de ficha que es\n",
    "yToFicha = {}\n",
    "\n",
    "for ficha, positions in fichasPos.items():\n",
    "    for pos in positions:\n",
    "        if pos[0] not in xToFicha:  xToFicha[pos[0]] = {pos[1] : ficha}\n",
    "        else: xToFicha[pos[0]] = xToFicha[pos[0]] | {pos[1] : ficha}\n",
    "\n",
    "        if pos[1] not in yToFicha:  yToFicha[pos[1]] = {pos[0] : ficha}\n",
    "        else: yToFicha[pos[1]] = yToFicha[pos[1]] | {pos[0] : ficha}\n",
    "\n",
    "#Inicializo la tupla con los tres diccionarios para almacenar el estado\n",
    "estado = (fichasPos, xToFicha, yToFicha)\n",
    "estado"
   ]
  },
  {
   "cell_type": "code",
   "execution_count": 30,
   "id": "6916bf1f",
   "metadata": {},
   "outputs": [
    {
     "name": "stdout",
     "output_type": "stream",
     "text": [
      "(('S', ((4, 6),)), ('H', ((9, 4),)), ('V', ((1, 8),)), ('L', ((1, 2),)))\n",
      "---------------------------------\n",
      "((4, ((6, 'S'),)), (9, ((4, 'H'),)), (1, ((8, 'V'), (2, 'L'))))\n",
      "---------------------------------\n",
      "((6, ((4, 'S'),)), (4, ((9, 'H'),)), (8, ((1, 'V'),)), (2, ((1, 'L'),)))\n",
      "---------------------------------\n"
     ]
    }
   ],
   "source": [
    "#Traducir los diccionarios a tuplas\n",
    "lista1 = []\n",
    "for f, p in fichasPos.items():\n",
    "    lista1.append((f, tuple(x for x in p)))\n",
    "\n",
    "lista2 = []\n",
    "for x, d in xToFicha.items():\n",
    "    lista2.append((x, tuple(a for a in d.items())))\n",
    "\n",
    "lista3 = []\n",
    "for y, d in yToFicha.items():\n",
    "    lista3.append((y, tuple(a for a in d.items())))\n",
    "\n",
    "rayas = \"---------------------------------\"\n",
    "#Primer diccionario pasado a tupla\n",
    "tupla1 = tuple(lista1)\n",
    "print(tupla1)\n",
    "print(rayas)\n",
    "#Segundo diccionario pasado a tupla\n",
    "tupla2 = tuple(lista2)\n",
    "print(tupla2)\n",
    "print(rayas)\n",
    "#Tercer diccionario pasado a tupla\n",
    "tupla3 = tuple(lista3)\n",
    "print(tupla3)\n",
    "print(rayas)"
   ]
  },
  {
   "cell_type": "code",
   "execution_count": 31,
   "id": "221fc235",
   "metadata": {},
   "outputs": [
    {
     "name": "stdout",
     "output_type": "stream",
     "text": [
      "{'S': ((4, 6),), 'H': ((9, 4),), 'V': ((1, 8),), 'L': ((1, 2),)}\n",
      "El problema es que el diccionario se queda como valor una tupla de tuplas y no una lista de tuplas\n",
      "{'S': [(4, 6)], 'H': [(9, 4)], 'V': [(1, 8)], 'L': [(1, 2)]}\n",
      "Ya ha vuelto a como estaba antes\n",
      "---------------------------------\n",
      "{4: ((6, 'S'),), 9: ((4, 'H'),), 1: ((8, 'V'), (2, 'L'))}\n",
      "El problema es el mismo que el del diccionario anterior, pero ahora con diccionarios en vez de listas\n",
      "{4: {6: 'S'}, 9: {4: 'H'}, 1: {8: 'V', 2: 'L'}}\n",
      "Problema arreglado\n",
      "---------------------------------\n",
      "{6: {4: 'S'}, 4: {9: 'H'}, 8: {1: 'V'}, 2: {1: 'L'}}\n"
     ]
    }
   ],
   "source": [
    "#Volver a convertir las tuplas a los diccionarios originales\n",
    "diccionarioOtraVez1 = dict(list(tupla1))\n",
    "print(diccionarioOtraVez1)\n",
    "print(\"El problema es que el diccionario se queda como valor una tupla de tuplas y no una lista de tuplas\")\n",
    "#Asi que para cada tupla de tuplas del diccionario tengo que convertirla a una lista\n",
    "for f in diccionarioOtraVez1:\n",
    "    diccionarioOtraVez1[f] = list(diccionarioOtraVez1[f])\n",
    "print(diccionarioOtraVez1)\n",
    "print(\"Ya ha vuelto a como estaba antes\")\n",
    "print(rayas)\n",
    "\n",
    "diccionarioOtraVez2 = dict(list(tupla2))\n",
    "print(diccionarioOtraVez2)\n",
    "print(\"El problema es el mismo que el del diccionario anterior, pero ahora con diccionarios en vez de listas\")\n",
    "for f in diccionarioOtraVez2:\n",
    "    diccionarioOtraVez2[f] = dict(diccionarioOtraVez2[f])\n",
    "\n",
    "print(diccionarioOtraVez2)\n",
    "print(\"Problema arreglado\")\n",
    "print(rayas)\n",
    "\n",
    "diccionarioOtraVez3 = dict(list(tupla3))\n",
    "for f in diccionarioOtraVez3:\n",
    "    diccionarioOtraVez3[f] = dict(diccionarioOtraVez3[f])\n",
    "print(diccionarioOtraVez3)"
   ]
  },
  {
   "cell_type": "code",
   "execution_count": null,
   "id": "ddae17ee-84f0-4cac-958b-4bcb069e8e29",
   "metadata": {},
   "outputs": [],
   "source": []
  }
 ],
 "metadata": {
  "kernelspec": {
   "display_name": "Python 3 (ipykernel)",
   "language": "python",
   "name": "python3"
  },
  "language_info": {
   "codemirror_mode": {
    "name": "ipython",
    "version": 3
   },
   "file_extension": ".py",
   "mimetype": "text/x-python",
   "name": "python",
   "nbconvert_exporter": "python",
   "pygments_lexer": "ipython3",
   "version": "3.10.11"
  }
 },
 "nbformat": 4,
 "nbformat_minor": 5
}
