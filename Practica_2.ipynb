{
 "cells": [
  {
   "cell_type": "code",
   "execution_count": 25,
   "id": "6d8c2291-334a-4575-a5c7-0718ebc042da",
   "metadata": {},
   "outputs": [],
   "source": [
    "from search import *"
   ]
  },
  {
   "cell_type": "code",
   "execution_count": 53,
   "id": "057e6d0a-353a-4156-883c-97e2e11a931f",
   "metadata": {
    "scrolled": true
   },
   "outputs": [],
   "source": [
    "class Movix(Problem):\n",
    "\n",
    "    tablero = {}\n",
    "    N = 0\n",
    "    Y = 0\n",
    "    \n",
    "    def __init__(self, N, Y, initial, goal=None):\n",
    "        '''Inicializacion de nuestro problema. En este caso el estado inicial y objetivo se pasan como parámetros'''\n",
    "        Problem.__init__(self, initial, goal)\n",
    "        self.N = N\n",
    "        self.Y = Y\n",
    "        # En este caso representamos cada accion con un texto para identificar al operador y despues una tupla de dos elementos con la\n",
    "        # cantidad de misioneros y canibales que se mueven en la canoa\n",
    "        #self._actions = [('1c', (0, 1)), ('1m', (1, 0)), ('2c', (0, 2)), ('2m', (2, 0)), ('1m1c', (1, 1))]\n",
    "        self._actions = []\n",
    "        for i in range (1, N):\n",
    "            self._actions.append(('V', (0, i)))\n",
    "            self._actions.append(('V', (0, -i)))\n",
    "            \n",
    "        for i in range (1, N):\n",
    "            self._actions.append(('H', (i, 0)))\n",
    "            self._actions.append(('H', (-i, 0)))\n",
    "\n",
    "        for i in range (-1, 2):\n",
    "            for j in range (-1, 2):\n",
    "                if(i != 0 or j != 0): \n",
    "                    self._actions.append(('L', (i, j)))\n",
    "                    if(i == 0 or j == 0): self._actions.append(('S', (2*i,2*j)))\n",
    "        \n",
    "    \n",
    "\n",
    "    def actions(self, s):\n",
    "        '''Devuelve las acciones validas para un estado.'''\n",
    "        # las acciones validas para un estado son aquellas que al aplicarse\n",
    "        # nos dejan en otro estado valido. La comprobación de las precondiciones se realiza en una función auxiliar is_valid\n",
    "        return [a for a in self._actions if self._is_valid(self.result(s, a))]\n",
    "\n",
    "    def _is_valid(self, s):\n",
    "        '''Determina si un estado es valido o no.'''\n",
    "        # un estado es valido si no hay mas canibales que misioneros en ninguna\n",
    "        # orilla, y si las cantidades estan entre 0 y 3 \n",
    "        return (s[0] >= s[1] or s[0] == 0) and ((3 - s[0]) >= (3 - s[1]) or s[0] == 3) and (0 <= s[0] <= 3) and (0 <= s[1] <= 3)\n",
    "\n",
    "    def result(self, s, a):\n",
    "        '''Devuelve el estado resultante de aplicar una accion a un estado\n",
    "           determinado.'''\n",
    "        # el estado resultante tiene la canoa en el lado opuesto, y con las\n",
    "        # cantidades de misioneros y canibales actualizadas segun la cantidad\n",
    "        # que viajaron en la canoa\n",
    "        if s[2] == 0:  #si la canoa está en el lado 0\n",
    "            return (s[0] - a[1][0], s[1] - a[1][1], 1)\n",
    "        else:\n",
    "            return (s[0] + a[1][0], s[1] + a[1][1], 0)"
   ]
  },
  {
   "cell_type": "code",
   "execution_count": 55,
   "id": "bda43370-da01-4cfb-bd8b-e22e2adec074",
   "metadata": {},
   "outputs": [
    {
     "ename": "IndexError",
     "evalue": "tuple index out of range",
     "output_type": "error",
     "traceback": [
      "\u001b[1;31m---------------------------------------------------------------------------\u001b[0m",
      "\u001b[1;31mIndexError\u001b[0m                                Traceback (most recent call last)",
      "Cell \u001b[1;32mIn[55], line 3\u001b[0m\n\u001b[0;32m      1\u001b[0m tablero \u001b[38;5;241m=\u001b[39m {\u001b[38;5;124m'\u001b[39m\u001b[38;5;124mV\u001b[39m\u001b[38;5;124m'\u001b[39m:(\u001b[38;5;241m0\u001b[39m, \u001b[38;5;241m0\u001b[39m), \u001b[38;5;124m'\u001b[39m\u001b[38;5;124mH\u001b[39m\u001b[38;5;124m'\u001b[39m:(\u001b[38;5;241m3\u001b[39m, \u001b[38;5;241m3\u001b[39m), \u001b[38;5;124m'\u001b[39m\u001b[38;5;124mS\u001b[39m\u001b[38;5;124m'\u001b[39m:(\u001b[38;5;241m2\u001b[39m, \u001b[38;5;241m2\u001b[39m), \u001b[38;5;124m'\u001b[39m\u001b[38;5;124mL\u001b[39m\u001b[38;5;124m'\u001b[39m:(\u001b[38;5;241m4\u001b[39m, \u001b[38;5;241m4\u001b[39m)}\n\u001b[0;32m      2\u001b[0m mierda \u001b[38;5;241m=\u001b[39m Movix(\u001b[38;5;241m1\u001b[39m, \u001b[38;5;241m1\u001b[39m, tablero)\n\u001b[1;32m----> 3\u001b[0m mierda\u001b[38;5;241m.\u001b[39mactions(())\n",
      "Cell \u001b[1;32mIn[53], line 36\u001b[0m, in \u001b[0;36mMovix.actions\u001b[1;34m(self, s)\u001b[0m\n\u001b[0;32m     33\u001b[0m \u001b[38;5;250m\u001b[39m\u001b[38;5;124;03m'''Devuelve las acciones validas para un estado.'''\u001b[39;00m\n\u001b[0;32m     34\u001b[0m \u001b[38;5;66;03m# las acciones validas para un estado son aquellas que al aplicarse\u001b[39;00m\n\u001b[0;32m     35\u001b[0m \u001b[38;5;66;03m# nos dejan en otro estado valido. La comprobación de las precondiciones se realiza en una función auxiliar is_valid\u001b[39;00m\n\u001b[1;32m---> 36\u001b[0m \u001b[38;5;28;01mreturn\u001b[39;00m [a \u001b[38;5;28;01mfor\u001b[39;00m a \u001b[38;5;129;01min\u001b[39;00m \u001b[38;5;28mself\u001b[39m\u001b[38;5;241m.\u001b[39m_actions \u001b[38;5;28;01mif\u001b[39;00m \u001b[38;5;28mself\u001b[39m\u001b[38;5;241m.\u001b[39m_is_valid(\u001b[38;5;28mself\u001b[39m\u001b[38;5;241m.\u001b[39mresult(s, a))]\n",
      "Cell \u001b[1;32mIn[53], line 36\u001b[0m, in \u001b[0;36m<listcomp>\u001b[1;34m(.0)\u001b[0m\n\u001b[0;32m     33\u001b[0m \u001b[38;5;250m\u001b[39m\u001b[38;5;124;03m'''Devuelve las acciones validas para un estado.'''\u001b[39;00m\n\u001b[0;32m     34\u001b[0m \u001b[38;5;66;03m# las acciones validas para un estado son aquellas que al aplicarse\u001b[39;00m\n\u001b[0;32m     35\u001b[0m \u001b[38;5;66;03m# nos dejan en otro estado valido. La comprobación de las precondiciones se realiza en una función auxiliar is_valid\u001b[39;00m\n\u001b[1;32m---> 36\u001b[0m \u001b[38;5;28;01mreturn\u001b[39;00m [a \u001b[38;5;28;01mfor\u001b[39;00m a \u001b[38;5;129;01min\u001b[39;00m \u001b[38;5;28mself\u001b[39m\u001b[38;5;241m.\u001b[39m_actions \u001b[38;5;28;01mif\u001b[39;00m \u001b[38;5;28mself\u001b[39m\u001b[38;5;241m.\u001b[39m_is_valid(\u001b[38;5;28mself\u001b[39m\u001b[38;5;241m.\u001b[39mresult(s, a))]\n",
      "Cell \u001b[1;32mIn[53], line 50\u001b[0m, in \u001b[0;36mMovix.result\u001b[1;34m(self, s, a)\u001b[0m\n\u001b[0;32m     45\u001b[0m \u001b[38;5;250m\u001b[39m\u001b[38;5;124;03m'''Devuelve el estado resultante de aplicar una accion a un estado\u001b[39;00m\n\u001b[0;32m     46\u001b[0m \u001b[38;5;124;03m   determinado.'''\u001b[39;00m\n\u001b[0;32m     47\u001b[0m \u001b[38;5;66;03m# el estado resultante tiene la canoa en el lado opuesto, y con las\u001b[39;00m\n\u001b[0;32m     48\u001b[0m \u001b[38;5;66;03m# cantidades de misioneros y canibales actualizadas segun la cantidad\u001b[39;00m\n\u001b[0;32m     49\u001b[0m \u001b[38;5;66;03m# que viajaron en la canoa\u001b[39;00m\n\u001b[1;32m---> 50\u001b[0m \u001b[38;5;28;01mif\u001b[39;00m s[\u001b[38;5;241m2\u001b[39m] \u001b[38;5;241m==\u001b[39m \u001b[38;5;241m0\u001b[39m:  \u001b[38;5;66;03m#si la canoa está en el lado 0\u001b[39;00m\n\u001b[0;32m     51\u001b[0m     \u001b[38;5;28;01mreturn\u001b[39;00m (s[\u001b[38;5;241m0\u001b[39m] \u001b[38;5;241m-\u001b[39m a[\u001b[38;5;241m1\u001b[39m][\u001b[38;5;241m0\u001b[39m], s[\u001b[38;5;241m1\u001b[39m] \u001b[38;5;241m-\u001b[39m a[\u001b[38;5;241m1\u001b[39m][\u001b[38;5;241m1\u001b[39m], \u001b[38;5;241m1\u001b[39m)\n\u001b[0;32m     52\u001b[0m \u001b[38;5;28;01melse\u001b[39;00m:\n",
      "\u001b[1;31mIndexError\u001b[0m: tuple index out of range"
     ]
    }
   ],
   "source": [
    "tablero = {'V':(0, 0), 'H':(3, 3), 'S':(2, 2), 'L':(4, 4)}\n",
    "mierda = Movix(1, 1, tablero)\n",
    "mierda.actions(())"
   ]
  },
  {
   "cell_type": "code",
   "execution_count": null,
   "id": "7b77c1a1-482c-435a-832b-eecb51566637",
   "metadata": {},
   "outputs": [],
   "source": []
  },
  {
   "cell_type": "code",
   "execution_count": null,
   "id": "a9148d00-d21d-4086-bf1c-7b8822987ce7",
   "metadata": {},
   "outputs": [],
   "source": []
  }
 ],
 "metadata": {
  "kernelspec": {
   "display_name": "Python 3 (ipykernel)",
   "language": "python",
   "name": "python3"
  },
  "language_info": {
   "codemirror_mode": {
    "name": "ipython",
    "version": 3
   },
   "file_extension": ".py",
   "mimetype": "text/x-python",
   "name": "python",
   "nbconvert_exporter": "python",
   "pygments_lexer": "ipython3",
   "version": "3.11.7"
  }
 },
 "nbformat": 4,
 "nbformat_minor": 5
}
