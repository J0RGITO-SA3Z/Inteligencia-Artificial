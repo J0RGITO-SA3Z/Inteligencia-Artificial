{
 "cells": [
  {
   "cell_type": "code",
   "execution_count": 7,
   "id": "ef039df2-74ae-4915-9881-359e61d1b681",
   "metadata": {},
   "outputs": [],
   "source": [
    "from search import *"
   ]
  },
  {
   "cell_type": "code",
   "execution_count": 8,
   "id": "7c366d51-e348-4eea-b987-289d82ff6f9f",
   "metadata": {},
   "outputs": [],
   "source": [
    "class Movix(Problem):\n",
    "\n",
    "    N = 0\n",
    "    Y = 0\n",
    "    \n",
    "    def __init__(self, N, Y, initial, goal=None):\n",
    "        '''Inicializacion de nuestro problema. En este caso el estado inicial y objetivo se pasan como parámetros'''\n",
    "        Problem.__init__(self, initial, goal)\n",
    "        self.N = N\n",
    "        self.Y = Y\n",
    "        self.initial = initial\n",
    "        # En este caso representamos cada accion con un texto para identificar al operador y despues una tupla de dos elementos con la\n",
    "        # cantidad de misioneros y canibales que se mueven en la canoa\n",
    "        #self._actions = [('1c', (0, 1)), ('1m', (1, 0)), ('2c', (0, 2)), ('2m', (2, 0)), ('1m1c', (1, 1))]\n",
    "        self._actions = []\n",
    "        for i in range (1, N):\n",
    "            self._actions.append(('V', (0, i)))\n",
    "            self._actions.append(('V', (0, -i)))\n",
    "            \n",
    "        for i in range (1, N):\n",
    "            self._actions.append(('H', (i, 0)))\n",
    "            self._actions.append(('H', (-i, 0)))\n",
    "\n",
    "        for i in range (-1, 2):\n",
    "            for j in range (-1, 2):\n",
    "                if(i != 0 or j != 0): \n",
    "                    self._actions.append(('L', (i, j)))\n",
    "                    if(i == 0 or j == 0): self._actions.append(('S', (2*i,2*j)))\n",
    "        \n",
    "    \n",
    "\n",
    "    def actions(self, s):\n",
    "        '''Devuelve las acciones validas para un estado.'''\n",
    "        # las acciones validas para un estado son aquellas que al aplicarse\n",
    "        # nos dejan en otro estado valido. La comprobación de las precondiciones se realiza en una función auxiliar is_valid\n",
    "        \n",
    "        #return [a for a in self._actions if self._is_valid(self.result(s, a))]\n",
    "\n",
    "        for ficha_tipo, posiciones in s[0].items():\n",
    "            print(f\"Tipo de ficha: {ficha_tipo}\")\n",
    "            for coordenadas in posiciones:\n",
    "                x, y = coordenadas  # Obtenemos las coordenadas (x, y)\n",
    "                print(f\"  Coordenadas: ({x}, {y})\")\n",
    "                \n",
    "                # Aquí puedes realizar cualquier operación que necesites con (x, y)\n",
    "                # Por ejemplo, sumar las coordenadas\n",
    "                resultado = x + y\n",
    "                print(f\"  Operación con la ficha ({x}, {y}) -> Resultado (x + y): {resultado}\")\n",
    "            \n",
    "\n",
    "    #def _possible(self, a, s):\n",
    "        \n",
    "        \n",
    "    \n",
    "    def _is_valid(self, s):\n",
    "        '''Determina si un estado es valido o no.'''\n",
    "        # un estado es valido si no hay mas canibales que misioneros en ninguna\n",
    "        # orilla, y si las cantidades estan entre 0 y 3 \n",
    "        return (s[0] >= s[1] or s[0] == 0) and ((3 - s[0]) >= (3 - s[1]) or s[0] == 3) and (0 <= s[0] <= 3) and (0 <= s[1] <= 3)\n",
    "\n",
    "    def result(self, s, a):\n",
    "        '''Devuelve el estado resultante de aplicar una accion a un estado\n",
    "           determinado.'''\n",
    "        # el estado resultante tiene la canoa en el lado opuesto, y con las\n",
    "        # cantidades de misioneros y canibales actualizadas segun la cantidad\n",
    "        # que viajaron en la canoa\n",
    "        if s[2] == 0:  #si la canoa está en el lado 0\n",
    "            return (s[0] - a[1][0], s[1] - a[1][1], 1)\n",
    "        else:\n",
    "            return (s[0] + a[1][0], s[1] + a[1][1], 0)"
   ]
  },
  {
   "cell_type": "code",
   "execution_count": 9,
   "id": "d156127d-db68-4c7b-a36b-7325f8c3de4b",
   "metadata": {},
   "outputs": [
    {
     "ename": "IndexError",
     "evalue": "tuple index out of range",
     "output_type": "error",
     "traceback": [
      "\u001b[1;31m---------------------------------------------------------------------------\u001b[0m",
      "\u001b[1;31mIndexError\u001b[0m                                Traceback (most recent call last)",
      "Cell \u001b[1;32mIn[9], line 8\u001b[0m\n\u001b[0;32m      6\u001b[0m \u001b[38;5;66;03m#(('S', (1, 1)), ('H', (3, 1)), ('L', (2, 2)), ('V', (0, 3))) #(('_', '_', '_', '_', '_'), ('_', 'S', '_', 'H', '_'), ('_', '_', 'L', '_', '_'), ('V', '_', '_', '_', '_'), ('_', '_', '_', '_', '_')) #{'V':(0, 0), 'H':(3, 3), 'S':(2, 2), 'L':(4, 4)}\u001b[39;00m\n\u001b[0;32m      7\u001b[0m mierda \u001b[38;5;241m=\u001b[39m Movix(\u001b[38;5;241m1\u001b[39m, \u001b[38;5;241m1\u001b[39m, s)\n\u001b[1;32m----> 8\u001b[0m \u001b[43mmierda\u001b[49m\u001b[38;5;241;43m.\u001b[39;49m\u001b[43mactions\u001b[49m\u001b[43m(\u001b[49m\u001b[43m(\u001b[49m\u001b[43m)\u001b[49m\u001b[43m)\u001b[49m\n",
      "Cell \u001b[1;32mIn[8], line 39\u001b[0m, in \u001b[0;36mMovix.actions\u001b[1;34m(self, s)\u001b[0m\n\u001b[0;32m     33\u001b[0m \u001b[38;5;250m\u001b[39m\u001b[38;5;124;03m'''Devuelve las acciones validas para un estado.'''\u001b[39;00m\n\u001b[0;32m     34\u001b[0m \u001b[38;5;66;03m# las acciones validas para un estado son aquellas que al aplicarse\u001b[39;00m\n\u001b[0;32m     35\u001b[0m \u001b[38;5;66;03m# nos dejan en otro estado valido. La comprobación de las precondiciones se realiza en una función auxiliar is_valid\u001b[39;00m\n\u001b[0;32m     36\u001b[0m \n\u001b[0;32m     37\u001b[0m \u001b[38;5;66;03m#return [a for a in self._actions if self._is_valid(self.result(s, a))]\u001b[39;00m\n\u001b[1;32m---> 39\u001b[0m \u001b[38;5;28;01mfor\u001b[39;00m ficha_tipo, posiciones \u001b[38;5;129;01min\u001b[39;00m \u001b[43ms\u001b[49m\u001b[43m[\u001b[49m\u001b[38;5;241;43m0\u001b[39;49m\u001b[43m]\u001b[49m\u001b[38;5;241m.\u001b[39mitems():\n\u001b[0;32m     40\u001b[0m     \u001b[38;5;28mprint\u001b[39m(\u001b[38;5;124mf\u001b[39m\u001b[38;5;124m\"\u001b[39m\u001b[38;5;124mTipo de ficha: \u001b[39m\u001b[38;5;132;01m{\u001b[39;00mficha_tipo\u001b[38;5;132;01m}\u001b[39;00m\u001b[38;5;124m\"\u001b[39m)\n\u001b[0;32m     41\u001b[0m     \u001b[38;5;28;01mfor\u001b[39;00m coordenadas \u001b[38;5;129;01min\u001b[39;00m posiciones:\n",
      "\u001b[1;31mIndexError\u001b[0m: tuple index out of range"
     ]
    }
   ],
   "source": [
    "s = (\n",
    "    {'S':[(1, 1)], 'H':[(3, 1)], 'L':[(2, 2)], 'V':[(0, 3)]}, \n",
    "    {0:[('V', 3)], 1:[('S', 1)], 2:[('L', 2)], 3:[('H', 1)]}, \n",
    "    {1:[(1, 'S'), (3, 'H')], 2:[(2, 'L')], 3:[(0, 'V')]})\n",
    "\n",
    "#(('S', (1, 1)), ('H', (3, 1)), ('L', (2, 2)), ('V', (0, 3))) #(('_', '_', '_', '_', '_'), ('_', 'S', '_', 'H', '_'), ('_', '_', 'L', '_', '_'), ('V', '_', '_', '_', '_'), ('_', '_', '_', '_', '_')) #{'V':(0, 0), 'H':(3, 3), 'S':(2, 2), 'L':(4, 4)}\n",
    "mierda = Movix(1, 1, s)\n",
    "mierda.actions(())"
   ]
  },
  {
   "cell_type": "code",
   "execution_count": null,
   "id": "95fee3df-8cb9-498e-b76c-060c74af08f1",
   "metadata": {},
   "outputs": [],
   "source": []
  }
 ],
 "metadata": {
  "kernelspec": {
   "display_name": "Python 3",
   "language": "python",
   "name": "python3"
  },
  "language_info": {
   "codemirror_mode": {
    "name": "ipython",
    "version": 3
   },
   "file_extension": ".py",
   "mimetype": "text/x-python",
   "name": "python",
   "nbconvert_exporter": "python",
   "pygments_lexer": "ipython3",
   "version": "3.12.4"
  }
 },
 "nbformat": 4,
 "nbformat_minor": 5
}
